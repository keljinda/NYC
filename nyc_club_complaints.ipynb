{
 "cells": [
  {
   "cell_type": "markdown",
   "metadata": {},
   "source": [
    "<img src=\"http://imgur.com/1ZcRyrc.png\" style=\"float: left; margin: 20px; height: 55px\" />\n",
    "\n",
    "# Exploring NYC Club Complaints with Pandas\n",
    "\n",
    "_Authors: Julian Oquendo and James Larkin_"
   ]
  },
  {
   "cell_type": "markdown",
   "metadata": {},
   "source": [
    "### Import standard libraries for data analysis in Python"
   ]
  },
  {
   "cell_type": "code",
   "execution_count": 125,
   "metadata": {
    "ExecuteTime": {
     "end_time": "2020-11-10T21:58:09.859649Z",
     "start_time": "2020-11-10T21:58:09.856306Z"
    }
   },
   "outputs": [],
   "source": [
    "# Import standard libraries with the commonly used aliases\n",
    "\n",
    "# Aliased as pd\n",
    "import pandas as pd\n",
    "\n",
    "# Numerical Python - library for various mathematical operations\n",
    "# Aliased as np\n",
    "import numpy as np\n",
    "\n",
    "# Seaborn is a robust data visualization library that sits atop Matplotlib\n",
    "# Aliased as sns \n",
    "import seaborn as sns\n",
    "\n",
    "# pyplot is a Matplotlib module which provides a MATLAB-like interface\n",
    "# \"matplotlib.pyplot\" is aliased as plt\n",
    "import matplotlib.pyplot as plt"
   ]
  },
  {
   "cell_type": "markdown",
   "metadata": {},
   "source": [
    "### Reading in a comma separated values (csv) file\n",
    "- [pandas.read_csv](https://pandas.pydata.org/pandas-docs/stable/reference/api/pandas.read_csv.html)"
   ]
  },
  {
   "cell_type": "code",
   "execution_count": 127,
   "metadata": {
    "ExecuteTime": {
     "end_time": "2020-11-10T21:58:09.869791Z",
     "start_time": "2020-11-10T21:58:09.861552Z"
    }
   },
   "outputs": [
    {
     "name": "stdout",
     "output_type": "stream",
     "text": [
      "<class 'pandas.core.frame.DataFrame'>\n",
      "RangeIndex: 2447 entries, 0 to 2446\n",
      "Data columns (total 8 columns):\n",
      " #   Column           Non-Null Count  Dtype  \n",
      "---  ------           --------------  -----  \n",
      " 0   index            2447 non-null   int64  \n",
      " 1   LOC              2447 non-null   object \n",
      " 2   ZC               2447 non-null   int64  \n",
      " 3   CITY             1708 non-null   object \n",
      " 4   BOUROUGHS_STATE  2447 non-null   object \n",
      " 5   LAT              2447 non-null   float64\n",
      " 6   LONG             2447 non-null   float64\n",
      " 7   num_calls        2447 non-null   object \n",
      "dtypes: float64(2), int64(2), object(4)\n",
      "memory usage: 153.1+ KB\n"
     ]
    }
   ],
   "source": [
    "# Read in the \"club_noise_complaints.csv\" using a handy Pandas method\n",
    "# Assign the data to a variable name such as \"cc\" (for club complaints)\n",
    "\n",
    "cc = pd.read_csv('data/club_noise_complaints.csv')\n",
    "\n",
    "cc.info()\n",
    "# A comma separated values (csv) file is a plain text file that contains a list of data \n",
    "# with elements separated by commmas. There are also tab separated files (tsv), json files\n",
    "# (JavaScript Object Notation), etc."
   ]
  },
  {
   "cell_type": "markdown",
   "metadata": {},
   "source": [
    "### Getting a look at the dataset using Pandas methods such as `.head()`, `.tail()`, and `.sample()`\n",
    "\n",
    "- [pandas.DataFrame.head](https://pandas.pydata.org/pandas-docs/stable/reference/api/pandas.DataFrame.head.html)\n",
    "- [pandas.DataFrame.tail](https://pandas.pydata.org/pandas-docs/stable/reference/api/pandas.DataFrame.tail.html)\n",
    "- [pandas.DataFrame.sample](https://pandas.pydata.org/pandas-docs/stable/reference/api/pandas.DataFrame.sample.html)"
   ]
  },
  {
   "cell_type": "code",
   "execution_count": 129,
   "metadata": {
    "ExecuteTime": {
     "end_time": "2020-11-10T21:58:09.882641Z",
     "start_time": "2020-11-10T21:58:09.871667Z"
    }
   },
   "outputs": [
    {
     "data": {
      "text/html": [
       "<div>\n",
       "<style scoped>\n",
       "    .dataframe tbody tr th:only-of-type {\n",
       "        vertical-align: middle;\n",
       "    }\n",
       "\n",
       "    .dataframe tbody tr th {\n",
       "        vertical-align: top;\n",
       "    }\n",
       "\n",
       "    .dataframe thead th {\n",
       "        text-align: right;\n",
       "    }\n",
       "</style>\n",
       "<table border=\"1\" class=\"dataframe\">\n",
       "  <thead>\n",
       "    <tr style=\"text-align: right;\">\n",
       "      <th></th>\n",
       "      <th>index</th>\n",
       "      <th>LOC</th>\n",
       "      <th>ZC</th>\n",
       "      <th>CITY</th>\n",
       "      <th>BOUROUGHS_STATE</th>\n",
       "      <th>LAT</th>\n",
       "      <th>LONG</th>\n",
       "      <th>num_calls</th>\n",
       "    </tr>\n",
       "  </thead>\n",
       "  <tbody>\n",
       "    <tr>\n",
       "      <th>915</th>\n",
       "      <td>916</td>\n",
       "      <td>Club/Bar/Restaurant</td>\n",
       "      <td>11206</td>\n",
       "      <td>NaN</td>\n",
       "      <td>BROOKLYN, NY</td>\n",
       "      <td>40.707003</td>\n",
       "      <td>-73.932448</td>\n",
       "      <td>28</td>\n",
       "    </tr>\n",
       "  </tbody>\n",
       "</table>\n",
       "</div>"
      ],
      "text/plain": [
       "     index                  LOC     ZC CITY BOUROUGHS_STATE        LAT  \\\n",
       "915    916  Club/Bar/Restaurant  11206  NaN    BROOKLYN, NY  40.707003   \n",
       "\n",
       "          LONG num_calls  \n",
       "915 -73.932448        28  "
      ]
     },
     "execution_count": 129,
     "metadata": {},
     "output_type": "execute_result"
    }
   ],
   "source": [
    "# Check the first five rows of the Pandas DataFrame\n",
    "#cc.head(5)\n",
    "\n",
    "# Check the last five rows of the Pandas DataFrame\n",
    "#cc.tail(5)\n",
    "# Check out a sample row of the Pandas DataFrame\n",
    "cc.sample()\n"
   ]
  },
  {
   "cell_type": "markdown",
   "metadata": {},
   "source": [
    "### Output a concise summary of a Pandas DataFrame using `.info()`\n",
    "\n",
    "- [pandas.DataFrame.info](https://pandas.pydata.org/pandas-docs/stable/reference/api/pandas.DataFrame.info.html)"
   ]
  },
  {
   "cell_type": "code",
   "execution_count": 131,
   "metadata": {
    "ExecuteTime": {
     "end_time": "2020-11-10T21:58:09.891477Z",
     "start_time": "2020-11-10T21:58:09.884516Z"
    }
   },
   "outputs": [
    {
     "name": "stdout",
     "output_type": "stream",
     "text": [
      "<class 'pandas.core.frame.DataFrame'>\n",
      "RangeIndex: 2447 entries, 0 to 2446\n",
      "Data columns (total 8 columns):\n",
      " #   Column           Non-Null Count  Dtype  \n",
      "---  ------           --------------  -----  \n",
      " 0   index            2447 non-null   int64  \n",
      " 1   LOC              2447 non-null   object \n",
      " 2   ZC               2447 non-null   int64  \n",
      " 3   CITY             1708 non-null   object \n",
      " 4   BOUROUGHS_STATE  2447 non-null   object \n",
      " 5   LAT              2447 non-null   float64\n",
      " 6   LONG             2447 non-null   float64\n",
      " 7   num_calls        2447 non-null   object \n",
      "dtypes: float64(2), int64(2), object(4)\n",
      "memory usage: 153.1+ KB\n"
     ]
    }
   ],
   "source": [
    "# Chain on the `info()` method to the Pandas DataFrame variable\n",
    "cc.info()"
   ]
  },
  {
   "cell_type": "markdown",
   "metadata": {},
   "source": [
    "### Checking the dimensions (number of rows and columns) in the dataset\n",
    "\n",
    "- [pandas.DataFrame.shape](https://pandas.pydata.org/pandas-docs/stable/reference/api/pandas.DataFrame.shape.html)"
   ]
  },
  {
   "cell_type": "code",
   "execution_count": 133,
   "metadata": {
    "ExecuteTime": {
     "end_time": "2020-11-10T21:58:09.897466Z",
     "start_time": "2020-11-10T21:58:09.893485Z"
    }
   },
   "outputs": [
    {
     "data": {
      "text/plain": [
       "0          1\n",
       "1          2\n",
       "2          3\n",
       "3          4\n",
       "4          5\n",
       "        ... \n",
       "2442    2443\n",
       "2443    2444\n",
       "2444    2445\n",
       "2445    2446\n",
       "2446    2447\n",
       "Name: index, Length: 2447, dtype: int64"
      ]
     },
     "execution_count": 133,
     "metadata": {},
     "output_type": "execute_result"
    }
   ],
   "source": [
    "# Chain on the `shape` attribute to the Pandas DataFrame variable\n",
    "# The output is a tuple containing the number of rows and columns in the DataFrame\n",
    "\n",
    "cc.shape\n",
    "# Chain on the `columns` attribute to the Pandas DataFrame variable\n",
    "# The output is the name of the columns in the Pandas DataFrame\n",
    "\n",
    "cc.columns\n",
    "\n",
    "# Chain on the `index` attribute to the Pandas DataFrame variable\n",
    "# The output is the index of the DataFrame, the data type of that index, and\n",
    "# the length of number of index values\n",
    "cc['index']"
   ]
  },
  {
   "cell_type": "code",
   "execution_count": 135,
   "metadata": {},
   "outputs": [
    {
     "data": {
      "text/plain": [
       "Index(['index', 'LOC', 'ZC', 'CITY', 'BOUROUGHS_STATE', 'LAT', 'LONG',\n",
       "       'num_calls'],\n",
       "      dtype='object')"
      ]
     },
     "execution_count": 135,
     "metadata": {},
     "output_type": "execute_result"
    }
   ],
   "source": [
    "cc.columns\n"
   ]
  },
  {
   "cell_type": "markdown",
   "metadata": {},
   "source": [
    "### Checking the data types in dataset\n",
    "\n",
    "- [Pandas DataTypes](https://pbpython.com/pandas_dtypes.html)\n",
    "![alt text](assets/data_types.png)"
   ]
  },
  {
   "cell_type": "code",
   "execution_count": 137,
   "metadata": {
    "ExecuteTime": {
     "end_time": "2020-11-10T21:58:09.939219Z",
     "start_time": "2020-11-10T21:58:09.899055Z"
    },
    "scrolled": true
   },
   "outputs": [
    {
     "data": {
      "text/plain": [
       "index                int64\n",
       "LOC                 object\n",
       "ZC                   int64\n",
       "CITY                object\n",
       "BOUROUGHS_STATE     object\n",
       "LAT                float64\n",
       "LONG               float64\n",
       "num_calls           object\n",
       "dtype: object"
      ]
     },
     "execution_count": 137,
     "metadata": {},
     "output_type": "execute_result"
    }
   ],
   "source": [
    "# Output the data types in the DataFrame using the `dtypes` attribute\n",
    "# Common datatypes are int64, float64, object, and many more\n",
    "\n",
    "cc.dtypes"
   ]
  },
  {
   "cell_type": "markdown",
   "metadata": {},
   "source": [
    "## Check the number of unique values inside either each column/series of a Pandas Dataframe or a single Pandas column/series\n",
    "\n",
    "- [pandas.DataFrame.nunique](https://pandas.pydata.org/pandas-docs/stable/reference/api/pandas.DataFrame.nunique.html)\n",
    "- [pandas.Series.nunique](https://pandas.pydata.org/pandas-docs/stable/reference/api/pandas.Series.nunique.html)\n",
    "      - Count the number of distinct observations over a requested axis.\n"
   ]
  },
  {
   "cell_type": "code",
   "execution_count": 139,
   "metadata": {
    "ExecuteTime": {
     "end_time": "2020-11-10T21:58:10.112420Z",
     "start_time": "2020-11-10T21:58:09.941824Z"
    }
   },
   "outputs": [
    {
     "data": {
      "text/plain": [
       "LOC                   2\n",
       "BOUROUGHS_STATE       6\n",
       "CITY                 40\n",
       "ZC                  159\n",
       "num_calls           190\n",
       "LONG               2389\n",
       "LAT                2390\n",
       "index              2447\n",
       "dtype: int64"
      ]
     },
     "execution_count": 139,
     "metadata": {},
     "output_type": "execute_result"
    }
   ],
   "source": [
    "# The `.nunique()` method used on the DataFrame outputs a count of the number of the\n",
    "# unique values in each column or Pandas Series in the DataFrame\n",
    "\n",
    "cc.nunique().sort_values()"
   ]
  },
  {
   "cell_type": "markdown",
   "metadata": {},
   "source": [
    "- [pandas.DataFrame.drop](https://pandas.pydata.org/pandas-docs/stable/reference/api/pandas.DataFrame.drop.html)\n",
    "      - Drop specified labels from rows or columns."
   ]
  },
  {
   "cell_type": "code",
   "execution_count": 141,
   "metadata": {
    "ExecuteTime": {
     "end_time": "2020-11-10T21:58:10.126952Z",
     "start_time": "2020-11-10T21:58:10.123257Z"
    }
   },
   "outputs": [],
   "source": [
    "# From the documentation...\n",
    "# axis{0 or ‘index’, 1 or ‘columns’}, default 0   <---- this is key\n",
    "# Whether to drop labels from the index (0 or ‘index’) or columns (1 or ‘columns’).\n",
    "\n",
    "cc.drop(columns=\"index\", inplace=True)\n",
    "\n",
    "# So if you want to drop a column, such as the seemingly unneeded \"index\" column,\n",
    "# we'll override the default parameter of axis=0 or dropping rows by adding\n",
    "# axis=1 inside the parantheses\n",
    "\n"
   ]
  },
  {
   "cell_type": "code",
   "execution_count": 143,
   "metadata": {
    "ExecuteTime": {
     "end_time": "2020-11-10T21:58:10.133097Z",
     "start_time": "2020-11-10T21:58:10.128669Z"
    }
   },
   "outputs": [
    {
     "data": {
      "text/plain": [
       "Index(['LOC', 'ZC', 'CITY', 'BOUROUGHS_STATE', 'LAT', 'LONG', 'num_calls'], dtype='object')"
      ]
     },
     "execution_count": 143,
     "metadata": {},
     "output_type": "execute_result"
    }
   ],
   "source": [
    "# Check the columns again using the appropriate columns\n",
    "cc.columns"
   ]
  },
  {
   "cell_type": "markdown",
   "metadata": {},
   "source": [
    "### Checking for missing values \n",
    "\n",
    "- [pandas.DataFrame.isnull](https://pandas.pydata.org/pandas-docs/stable/reference/api/pandas.DataFrame.isnull.html)\n",
    "      - Detects missing values"
   ]
  },
  {
   "cell_type": "code",
   "execution_count": 145,
   "metadata": {
    "ExecuteTime": {
     "end_time": "2020-11-10T21:58:10.141158Z",
     "start_time": "2020-11-10T21:58:10.134828Z"
    }
   },
   "outputs": [
    {
     "data": {
      "text/plain": [
       "LOC                  0\n",
       "ZC                   0\n",
       "CITY               739\n",
       "BOUROUGHS_STATE      0\n",
       "LAT                  0\n",
       "LONG                 0\n",
       "num_calls            0\n",
       "dtype: int64"
      ]
     },
     "execution_count": 145,
     "metadata": {},
     "output_type": "execute_result"
    }
   ],
   "source": [
    "# Chaining on the \"isnull\" method returns a series of Booleans. \n",
    "# True if the value is missing (NaN), False if the value is not missing)\n",
    "# NaN = Not a Number\n",
    "\n",
    "#cc.isnull()\n",
    "\n",
    "# Chaining on the .sum() method totals up those 1's and 0's\n",
    "# True -> 1, False -> 0\n",
    "cc.isnull().sum()\n"
   ]
  },
  {
   "cell_type": "code",
   "execution_count": 147,
   "metadata": {
    "ExecuteTime": {
     "end_time": "2020-11-10T21:58:10.150507Z",
     "start_time": "2020-11-10T21:58:10.142615Z"
    }
   },
   "outputs": [
    {
     "data": {
      "text/plain": [
       "LOC                  0\n",
       "ZC                   0\n",
       "CITY               739\n",
       "BOUROUGHS_STATE      0\n",
       "LAT                  0\n",
       "LONG                 0\n",
       "num_calls            0\n",
       "dtype: int64"
      ]
     },
     "execution_count": 147,
     "metadata": {},
     "output_type": "execute_result"
    }
   ],
   "source": [
    "# Now we can filter that \"cc.isnull().sum()\" \n",
    "cc.isnull().sum()\n"
   ]
  },
  {
   "cell_type": "markdown",
   "metadata": {},
   "source": [
    "### Checking for duplicate rows\n",
    "- [pandas.DataFrame.duplicated](https://pandas.pydata.org/pandas-docs/stable/reference/api/pandas.DataFrame.duplicated.html)\n",
    "      - Returns a Series of booleans denoting duplicate rows.\n",
    "      \n",
    "      - Key Parameter:\n",
    "           - keep{‘first’, ‘last’, False}, default ‘first’: Determines which duplicates \n",
    "             (if any) to mark.\n",
    "           - first : Mark duplicates as True except for the first occurrence.\n",
    "           - last : Mark duplicates as True except for the last occurrence.\n",
    "           - False : Mark all duplicates as True."
   ]
  },
  {
   "cell_type": "code",
   "execution_count": 149,
   "metadata": {
    "ExecuteTime": {
     "end_time": "2020-11-10T21:58:10.165169Z",
     "start_time": "2020-11-10T21:58:10.152452Z"
    }
   },
   "outputs": [
    {
     "data": {
      "text/plain": [
       "7"
      ]
     },
     "execution_count": 149,
     "metadata": {},
     "output_type": "execute_result"
    }
   ],
   "source": [
    "# Here's the boolean output...\n",
    "\n",
    "cc.duplicated()\n",
    "# Here's the totals/sums after chaining on the .sum() method\n",
    "\n",
    "cc.duplicated().sum()\n"
   ]
  },
  {
   "cell_type": "code",
   "execution_count": null,
   "metadata": {
    "ExecuteTime": {
     "end_time": "2020-11-10T21:58:10.189496Z",
     "start_time": "2020-11-10T21:58:10.185739Z"
    }
   },
   "outputs": [],
   "source": [
    "# Always good to check your work...\n",
    "\n"
   ]
  },
  {
   "cell_type": "markdown",
   "metadata": {},
   "source": [
    "### Dropping duplicate rows\n",
    "- [pandas.DataFrame.drop_duplicates](https://pandas.pydata.org/pandas-docs/stable/reference/api/pandas.DataFrame.drop_duplicates.html)\n",
    "      - Returns a DataFrame with duplicate rows removed."
   ]
  },
  {
   "cell_type": "code",
   "execution_count": 151,
   "metadata": {
    "ExecuteTime": {
     "end_time": "2020-11-10T21:58:10.199876Z",
     "start_time": "2020-11-10T21:58:10.191293Z"
    }
   },
   "outputs": [],
   "source": [
    "# Use the \"drop_duplicates\" method and then either assign it back to the DataFrame\n",
    "# variable name OR explore the inplace parameter and override the default\n",
    "\n",
    "cc=cc.drop_duplicates()"
   ]
  },
  {
   "cell_type": "code",
   "execution_count": 35,
   "metadata": {},
   "outputs": [],
   "source": [
    "##cc.drop(columns=\"index\", inplace=True)"
   ]
  },
  {
   "cell_type": "code",
   "execution_count": 153,
   "metadata": {},
   "outputs": [
    {
     "data": {
      "text/plain": [
       "Index(['LOC', 'ZC', 'CITY', 'BOUROUGHS_STATE', 'LAT', 'LONG', 'num_calls'], dtype='object')"
      ]
     },
     "execution_count": 153,
     "metadata": {},
     "output_type": "execute_result"
    }
   ],
   "source": [
    "cc.columns"
   ]
  },
  {
   "cell_type": "markdown",
   "metadata": {},
   "source": [
    "**Always good to check your work...**\n",
    "\n",
    "- [pandas.DataFrame.shape](https://pandas.pydata.org/pandas-docs/stable/reference/api/pandas.DataFrame.shape.html)\n",
    "      - Returns a tuple representing the dimensionality (rows, columns) of the DataFrame."
   ]
  },
  {
   "cell_type": "code",
   "execution_count": 155,
   "metadata": {
    "ExecuteTime": {
     "end_time": "2020-11-10T21:58:10.205894Z",
     "start_time": "2020-11-10T21:58:10.201740Z"
    }
   },
   "outputs": [
    {
     "data": {
      "text/plain": [
       "(2440, 7)"
      ]
     },
     "execution_count": 155,
     "metadata": {},
     "output_type": "execute_result"
    }
   ],
   "source": [
    "# We can use the `shape` attribute again to check the number of rows\n",
    "# or columns in the DataFrame as we explore the data/make changes to it.\n",
    "cc.shape"
   ]
  },
  {
   "cell_type": "markdown",
   "metadata": {},
   "source": [
    "### Find the rows where the `num_calls` column contains a `?`\n",
    "\n",
    "- [pandas.Series.str.contains](https://pandas.pydata.org/pandas-docs/stable/reference/api/pandas.Series.str.contains.html)\n",
    "      - Returns a Series of booleans based on whether a given pattern is contained \n",
    "        within a string of a Series"
   ]
  },
  {
   "cell_type": "code",
   "execution_count": 157,
   "metadata": {
    "ExecuteTime": {
     "end_time": "2020-11-10T21:58:10.217944Z",
     "start_time": "2020-11-10T21:58:10.207266Z"
    }
   },
   "outputs": [
    {
     "data": {
      "text/plain": [
       "22"
      ]
     },
     "execution_count": 157,
     "metadata": {},
     "output_type": "execute_result"
    }
   ],
   "source": [
    "# \"\\\" allows us to escape the pattern - the \"?\" is what we're searching for in the data\n",
    "cc['num_calls'].str.contains('\\\\?').sum()\n",
    "# Use the handy  (length) function to get a count of the rows that contain a \"?\""
   ]
  },
  {
   "cell_type": "code",
   "execution_count": null,
   "metadata": {},
   "outputs": [],
   "source": []
  },
  {
   "cell_type": "code",
   "execution_count": 159,
   "metadata": {},
   "outputs": [
    {
     "data": {
      "text/html": [
       "<div>\n",
       "<style scoped>\n",
       "    .dataframe tbody tr th:only-of-type {\n",
       "        vertical-align: middle;\n",
       "    }\n",
       "\n",
       "    .dataframe tbody tr th {\n",
       "        vertical-align: top;\n",
       "    }\n",
       "\n",
       "    .dataframe thead th {\n",
       "        text-align: right;\n",
       "    }\n",
       "</style>\n",
       "<table border=\"1\" class=\"dataframe\">\n",
       "  <thead>\n",
       "    <tr style=\"text-align: right;\">\n",
       "      <th></th>\n",
       "      <th>LOC</th>\n",
       "      <th>ZC</th>\n",
       "      <th>CITY</th>\n",
       "      <th>BOUROUGHS_STATE</th>\n",
       "      <th>LAT</th>\n",
       "      <th>LONG</th>\n",
       "      <th>num_calls</th>\n",
       "    </tr>\n",
       "  </thead>\n",
       "  <tbody>\n",
       "    <tr>\n",
       "      <th>28</th>\n",
       "      <td>Club/Bar/Restaurant</td>\n",
       "      <td>10009</td>\n",
       "      <td>NEW YORK</td>\n",
       "      <td>MANHATTAN, NY</td>\n",
       "      <td>40.729531</td>\n",
       "      <td>-73.980416</td>\n",
       "      <td>?</td>\n",
       "    </tr>\n",
       "    <tr>\n",
       "      <th>42</th>\n",
       "      <td>Club/Bar/Restaurant</td>\n",
       "      <td>11434</td>\n",
       "      <td>JAMAICA</td>\n",
       "      <td>QUEENS, NY</td>\n",
       "      <td>40.681879</td>\n",
       "      <td>-73.766080</td>\n",
       "      <td>?</td>\n",
       "    </tr>\n",
       "    <tr>\n",
       "      <th>178</th>\n",
       "      <td>Club/Bar/Restaurant</td>\n",
       "      <td>11216</td>\n",
       "      <td>NaN</td>\n",
       "      <td>BROOKLYN, NY</td>\n",
       "      <td>40.682822</td>\n",
       "      <td>-73.937999</td>\n",
       "      <td>1?</td>\n",
       "    </tr>\n",
       "    <tr>\n",
       "      <th>206</th>\n",
       "      <td>Club/Bar/Restaurant</td>\n",
       "      <td>11105</td>\n",
       "      <td>ASTORIA</td>\n",
       "      <td>QUEENS, NY</td>\n",
       "      <td>40.774785</td>\n",
       "      <td>-73.908777</td>\n",
       "      <td>?</td>\n",
       "    </tr>\n",
       "    <tr>\n",
       "      <th>210</th>\n",
       "      <td>Club/Bar/Restaurant</td>\n",
       "      <td>10012</td>\n",
       "      <td>NEW YORK</td>\n",
       "      <td>MANHATTAN, NY</td>\n",
       "      <td>40.721205</td>\n",
       "      <td>-73.996706</td>\n",
       "      <td>?</td>\n",
       "    </tr>\n",
       "    <tr>\n",
       "      <th>220</th>\n",
       "      <td>Club/Bar/Restaurant</td>\n",
       "      <td>11432</td>\n",
       "      <td>JAMAICA</td>\n",
       "      <td>QUEENS, NY</td>\n",
       "      <td>40.714470</td>\n",
       "      <td>-73.802468</td>\n",
       "      <td>?</td>\n",
       "    </tr>\n",
       "    <tr>\n",
       "      <th>244</th>\n",
       "      <td>Club/Bar/Restaurant</td>\n",
       "      <td>11249</td>\n",
       "      <td>NaN</td>\n",
       "      <td>BROOKLYN, NY</td>\n",
       "      <td>40.721043</td>\n",
       "      <td>-73.956431</td>\n",
       "      <td>?</td>\n",
       "    </tr>\n",
       "    <tr>\n",
       "      <th>264</th>\n",
       "      <td>Club/Bar/Restaurant</td>\n",
       "      <td>11211</td>\n",
       "      <td>NaN</td>\n",
       "      <td>BROOKLYN, NY</td>\n",
       "      <td>40.714951</td>\n",
       "      <td>-73.951753</td>\n",
       "      <td>?</td>\n",
       "    </tr>\n",
       "    <tr>\n",
       "      <th>296</th>\n",
       "      <td>Club/Bar/Restaurant</td>\n",
       "      <td>11215</td>\n",
       "      <td>NaN</td>\n",
       "      <td>BROOKLYN, NY</td>\n",
       "      <td>40.674869</td>\n",
       "      <td>-73.981542</td>\n",
       "      <td>?</td>\n",
       "    </tr>\n",
       "    <tr>\n",
       "      <th>320</th>\n",
       "      <td>Club/Bar/Restaurant</td>\n",
       "      <td>11417</td>\n",
       "      <td>OZONE PARK</td>\n",
       "      <td>QUEENS, NY</td>\n",
       "      <td>40.671816</td>\n",
       "      <td>-73.843092</td>\n",
       "      <td>?</td>\n",
       "    </tr>\n",
       "    <tr>\n",
       "      <th>379</th>\n",
       "      <td>Club/Bar/Restaurant</td>\n",
       "      <td>11103</td>\n",
       "      <td>ASTORIA</td>\n",
       "      <td>QUEENS, NY</td>\n",
       "      <td>40.767238</td>\n",
       "      <td>-73.917419</td>\n",
       "      <td>?</td>\n",
       "    </tr>\n",
       "    <tr>\n",
       "      <th>439</th>\n",
       "      <td>Club/Bar/Restaurant</td>\n",
       "      <td>10036</td>\n",
       "      <td>NEW YORK</td>\n",
       "      <td>MANHATTAN, NY</td>\n",
       "      <td>40.764317</td>\n",
       "      <td>-73.995784</td>\n",
       "      <td>?</td>\n",
       "    </tr>\n",
       "    <tr>\n",
       "      <th>567</th>\n",
       "      <td>Club/Bar/Restaurant</td>\n",
       "      <td>11377</td>\n",
       "      <td>WOODSIDE</td>\n",
       "      <td>QUEENS, NY</td>\n",
       "      <td>40.742023</td>\n",
       "      <td>-73.918941</td>\n",
       "      <td>?</td>\n",
       "    </tr>\n",
       "    <tr>\n",
       "      <th>1250</th>\n",
       "      <td>Club/Bar/Restaurant</td>\n",
       "      <td>11249</td>\n",
       "      <td>NaN</td>\n",
       "      <td>BROOKLYN, NY</td>\n",
       "      <td>40.722244</td>\n",
       "      <td>-73.958894</td>\n",
       "      <td>?</td>\n",
       "    </tr>\n",
       "    <tr>\n",
       "      <th>1425</th>\n",
       "      <td>Club/Bar/Restaurant</td>\n",
       "      <td>10009</td>\n",
       "      <td>NEW YORK</td>\n",
       "      <td>MANHATTAN, NY</td>\n",
       "      <td>40.727267</td>\n",
       "      <td>-73.984497</td>\n",
       "      <td>?</td>\n",
       "    </tr>\n",
       "    <tr>\n",
       "      <th>1552</th>\n",
       "      <td>Club/Bar/Restaurant</td>\n",
       "      <td>10009</td>\n",
       "      <td>NEW YORK</td>\n",
       "      <td>MANHATTAN, NY</td>\n",
       "      <td>40.725173</td>\n",
       "      <td>-73.984191</td>\n",
       "      <td>?</td>\n",
       "    </tr>\n",
       "    <tr>\n",
       "      <th>1662</th>\n",
       "      <td>Club/Bar/Restaurant</td>\n",
       "      <td>10040</td>\n",
       "      <td>NEW YORK</td>\n",
       "      <td>MANHATTAN, NY</td>\n",
       "      <td>40.854907</td>\n",
       "      <td>-73.929644</td>\n",
       "      <td>?</td>\n",
       "    </tr>\n",
       "    <tr>\n",
       "      <th>1664</th>\n",
       "      <td>Club/Bar/Restaurant</td>\n",
       "      <td>11419</td>\n",
       "      <td>SOUTH RICHMOND HILL</td>\n",
       "      <td>QUEENS, NY</td>\n",
       "      <td>40.688159</td>\n",
       "      <td>-73.819190</td>\n",
       "      <td>?</td>\n",
       "    </tr>\n",
       "    <tr>\n",
       "      <th>1668</th>\n",
       "      <td>Club/Bar/Restaurant</td>\n",
       "      <td>11238</td>\n",
       "      <td>NaN</td>\n",
       "      <td>BROOKLYN, NY</td>\n",
       "      <td>40.676891</td>\n",
       "      <td>-73.963605</td>\n",
       "      <td>?</td>\n",
       "    </tr>\n",
       "    <tr>\n",
       "      <th>1900</th>\n",
       "      <td>Club/Bar/Restaurant</td>\n",
       "      <td>10453</td>\n",
       "      <td>BRONX</td>\n",
       "      <td>BRONX, NY</td>\n",
       "      <td>40.858271</td>\n",
       "      <td>-73.902463</td>\n",
       "      <td>1?</td>\n",
       "    </tr>\n",
       "    <tr>\n",
       "      <th>1992</th>\n",
       "      <td>Club/Bar/Restaurant</td>\n",
       "      <td>10009</td>\n",
       "      <td>NEW YORK</td>\n",
       "      <td>MANHATTAN, NY</td>\n",
       "      <td>40.724832</td>\n",
       "      <td>-73.981377</td>\n",
       "      <td>?</td>\n",
       "    </tr>\n",
       "    <tr>\n",
       "      <th>2344</th>\n",
       "      <td>Club/Bar/Restaurant</td>\n",
       "      <td>11211</td>\n",
       "      <td>NaN</td>\n",
       "      <td>BROOKLYN, NY</td>\n",
       "      <td>40.721043</td>\n",
       "      <td>-73.956431</td>\n",
       "      <td>?</td>\n",
       "    </tr>\n",
       "  </tbody>\n",
       "</table>\n",
       "</div>"
      ],
      "text/plain": [
       "                      LOC     ZC                 CITY BOUROUGHS_STATE  \\\n",
       "28    Club/Bar/Restaurant  10009             NEW YORK   MANHATTAN, NY   \n",
       "42    Club/Bar/Restaurant  11434              JAMAICA      QUEENS, NY   \n",
       "178   Club/Bar/Restaurant  11216                  NaN    BROOKLYN, NY   \n",
       "206   Club/Bar/Restaurant  11105              ASTORIA      QUEENS, NY   \n",
       "210   Club/Bar/Restaurant  10012             NEW YORK   MANHATTAN, NY   \n",
       "220   Club/Bar/Restaurant  11432              JAMAICA      QUEENS, NY   \n",
       "244   Club/Bar/Restaurant  11249                  NaN    BROOKLYN, NY   \n",
       "264   Club/Bar/Restaurant  11211                  NaN    BROOKLYN, NY   \n",
       "296   Club/Bar/Restaurant  11215                  NaN    BROOKLYN, NY   \n",
       "320   Club/Bar/Restaurant  11417           OZONE PARK      QUEENS, NY   \n",
       "379   Club/Bar/Restaurant  11103              ASTORIA      QUEENS, NY   \n",
       "439   Club/Bar/Restaurant  10036             NEW YORK   MANHATTAN, NY   \n",
       "567   Club/Bar/Restaurant  11377             WOODSIDE      QUEENS, NY   \n",
       "1250  Club/Bar/Restaurant  11249                  NaN    BROOKLYN, NY   \n",
       "1425  Club/Bar/Restaurant  10009             NEW YORK   MANHATTAN, NY   \n",
       "1552  Club/Bar/Restaurant  10009             NEW YORK   MANHATTAN, NY   \n",
       "1662  Club/Bar/Restaurant  10040             NEW YORK   MANHATTAN, NY   \n",
       "1664  Club/Bar/Restaurant  11419  SOUTH RICHMOND HILL      QUEENS, NY   \n",
       "1668  Club/Bar/Restaurant  11238                  NaN    BROOKLYN, NY   \n",
       "1900  Club/Bar/Restaurant  10453                BRONX       BRONX, NY   \n",
       "1992  Club/Bar/Restaurant  10009             NEW YORK   MANHATTAN, NY   \n",
       "2344  Club/Bar/Restaurant  11211                  NaN    BROOKLYN, NY   \n",
       "\n",
       "            LAT       LONG num_calls  \n",
       "28    40.729531 -73.980416         ?  \n",
       "42    40.681879 -73.766080         ?  \n",
       "178   40.682822 -73.937999        1?  \n",
       "206   40.774785 -73.908777         ?  \n",
       "210   40.721205 -73.996706         ?  \n",
       "220   40.714470 -73.802468         ?  \n",
       "244   40.721043 -73.956431         ?  \n",
       "264   40.714951 -73.951753         ?  \n",
       "296   40.674869 -73.981542         ?  \n",
       "320   40.671816 -73.843092         ?  \n",
       "379   40.767238 -73.917419         ?  \n",
       "439   40.764317 -73.995784         ?  \n",
       "567   40.742023 -73.918941         ?  \n",
       "1250  40.722244 -73.958894         ?  \n",
       "1425  40.727267 -73.984497         ?  \n",
       "1552  40.725173 -73.984191         ?  \n",
       "1662  40.854907 -73.929644         ?  \n",
       "1664  40.688159 -73.819190         ?  \n",
       "1668  40.676891 -73.963605         ?  \n",
       "1900  40.858271 -73.902463        1?  \n",
       "1992  40.724832 -73.981377         ?  \n",
       "2344  40.721043 -73.956431         ?  "
      ]
     },
     "execution_count": 159,
     "metadata": {},
     "output_type": "execute_result"
    }
   ],
   "source": [
    "cc[cc['num_calls'].str.contains('\\\\?')]"
   ]
  },
  {
   "cell_type": "code",
   "execution_count": null,
   "metadata": {},
   "outputs": [],
   "source": []
  },
  {
   "cell_type": "markdown",
   "metadata": {},
   "source": [
    "### Use a handy method from the NumPy library commonly referred to as `np.where()` to replace the `\"?\"` and `\"1?\"` values with a NaN (Not a Number)\n",
    "\n",
    "- [numpy.where](https://numpy.org/doc/stable/reference/generated/numpy.where.html)\n",
    "      - Return elements chosen from x or y depending on a condition.\n",
    "      - Common syntax involves three values:\n",
    "          1. condition\n",
    "          2. what to return if condition is True\n",
    "          3. what to return if condition is False"
   ]
  },
  {
   "cell_type": "code",
   "execution_count": 161,
   "metadata": {
    "ExecuteTime": {
     "end_time": "2020-11-10T21:58:10.226997Z",
     "start_time": "2020-11-10T21:58:10.222245Z"
    }
   },
   "outputs": [
    {
     "data": {
      "text/html": [
       "<div>\n",
       "<style scoped>\n",
       "    .dataframe tbody tr th:only-of-type {\n",
       "        vertical-align: middle;\n",
       "    }\n",
       "\n",
       "    .dataframe tbody tr th {\n",
       "        vertical-align: top;\n",
       "    }\n",
       "\n",
       "    .dataframe thead th {\n",
       "        text-align: right;\n",
       "    }\n",
       "</style>\n",
       "<table border=\"1\" class=\"dataframe\">\n",
       "  <thead>\n",
       "    <tr style=\"text-align: right;\">\n",
       "      <th></th>\n",
       "      <th>LOC</th>\n",
       "      <th>ZC</th>\n",
       "      <th>CITY</th>\n",
       "      <th>BOUROUGHS_STATE</th>\n",
       "      <th>LAT</th>\n",
       "      <th>LONG</th>\n",
       "      <th>num_calls</th>\n",
       "    </tr>\n",
       "  </thead>\n",
       "  <tbody>\n",
       "    <tr>\n",
       "      <th>0</th>\n",
       "      <td>Club/Bar/Restaurant</td>\n",
       "      <td>10308</td>\n",
       "      <td>STATEN ISLAND</td>\n",
       "      <td>STATEN ISLAND, NY</td>\n",
       "      <td>40.544096</td>\n",
       "      <td>-74.141155</td>\n",
       "      <td>0</td>\n",
       "    </tr>\n",
       "    <tr>\n",
       "      <th>1</th>\n",
       "      <td>Club/Bar/Restaurant</td>\n",
       "      <td>10012</td>\n",
       "      <td>NEW YORK</td>\n",
       "      <td>MANHATTAN, NY</td>\n",
       "      <td>40.729793</td>\n",
       "      <td>-73.998842</td>\n",
       "      <td>18</td>\n",
       "    </tr>\n",
       "    <tr>\n",
       "      <th>2</th>\n",
       "      <td>Club/Bar/Restaurant</td>\n",
       "      <td>10308</td>\n",
       "      <td>STATEN ISLAND</td>\n",
       "      <td>STATEN ISLAND, NY</td>\n",
       "      <td>40.544209</td>\n",
       "      <td>-74.141040</td>\n",
       "      <td>21</td>\n",
       "    </tr>\n",
       "    <tr>\n",
       "      <th>3</th>\n",
       "      <td>Club/Bar/Restaurant</td>\n",
       "      <td>10034</td>\n",
       "      <td>New York</td>\n",
       "      <td>MANHATTAN, NY</td>\n",
       "      <td>40.866376</td>\n",
       "      <td>-73.928258</td>\n",
       "      <td>160</td>\n",
       "    </tr>\n",
       "    <tr>\n",
       "      <th>4</th>\n",
       "      <td>Club/Bar/Restaurant</td>\n",
       "      <td>11220</td>\n",
       "      <td>NaN</td>\n",
       "      <td>BROOKLYN, NY</td>\n",
       "      <td>40.635207</td>\n",
       "      <td>-74.020285</td>\n",
       "      <td>17</td>\n",
       "    </tr>\n",
       "    <tr>\n",
       "      <th>...</th>\n",
       "      <td>...</td>\n",
       "      <td>...</td>\n",
       "      <td>...</td>\n",
       "      <td>...</td>\n",
       "      <td>...</td>\n",
       "      <td>...</td>\n",
       "      <td>...</td>\n",
       "    </tr>\n",
       "    <tr>\n",
       "      <th>2442</th>\n",
       "      <td>Club/Bar/Restaurant</td>\n",
       "      <td>11211</td>\n",
       "      <td>NaN</td>\n",
       "      <td>BROOKLYN, NY</td>\n",
       "      <td>40.711765</td>\n",
       "      <td>-73.942687</td>\n",
       "      <td>16</td>\n",
       "    </tr>\n",
       "    <tr>\n",
       "      <th>2443</th>\n",
       "      <td>Club/Bar/Restaurant</td>\n",
       "      <td>11104</td>\n",
       "      <td>SUNNYSIDE</td>\n",
       "      <td>QUEENS, NY</td>\n",
       "      <td>40.740725</td>\n",
       "      <td>-73.923911</td>\n",
       "      <td>17</td>\n",
       "    </tr>\n",
       "    <tr>\n",
       "      <th>2444</th>\n",
       "      <td>Club/Bar/Restaurant</td>\n",
       "      <td>10012</td>\n",
       "      <td>NEW YORK</td>\n",
       "      <td>MANHATTAN, NY</td>\n",
       "      <td>40.729859</td>\n",
       "      <td>-74.000592</td>\n",
       "      <td>17</td>\n",
       "    </tr>\n",
       "    <tr>\n",
       "      <th>2445</th>\n",
       "      <td>Club/Bar/Restaurant</td>\n",
       "      <td>10304</td>\n",
       "      <td>STATEN ISLAND</td>\n",
       "      <td>STATEN ISLAND, NY</td>\n",
       "      <td>40.628744</td>\n",
       "      <td>-74.079935</td>\n",
       "      <td>11</td>\n",
       "    </tr>\n",
       "    <tr>\n",
       "      <th>2446</th>\n",
       "      <td>Club/Bar/Restaurant</td>\n",
       "      <td>11423</td>\n",
       "      <td>HOLLIS</td>\n",
       "      <td>QUEENS, NY</td>\n",
       "      <td>40.711692</td>\n",
       "      <td>-73.769709</td>\n",
       "      <td>11</td>\n",
       "    </tr>\n",
       "  </tbody>\n",
       "</table>\n",
       "<p>2440 rows × 7 columns</p>\n",
       "</div>"
      ],
      "text/plain": [
       "                      LOC     ZC           CITY    BOUROUGHS_STATE        LAT  \\\n",
       "0     Club/Bar/Restaurant  10308  STATEN ISLAND  STATEN ISLAND, NY  40.544096   \n",
       "1     Club/Bar/Restaurant  10012       NEW YORK      MANHATTAN, NY  40.729793   \n",
       "2     Club/Bar/Restaurant  10308  STATEN ISLAND  STATEN ISLAND, NY  40.544209   \n",
       "3     Club/Bar/Restaurant  10034       New York      MANHATTAN, NY  40.866376   \n",
       "4     Club/Bar/Restaurant  11220            NaN       BROOKLYN, NY  40.635207   \n",
       "...                   ...    ...            ...                ...        ...   \n",
       "2442  Club/Bar/Restaurant  11211            NaN       BROOKLYN, NY  40.711765   \n",
       "2443  Club/Bar/Restaurant  11104      SUNNYSIDE         QUEENS, NY  40.740725   \n",
       "2444  Club/Bar/Restaurant  10012       NEW YORK      MANHATTAN, NY  40.729859   \n",
       "2445  Club/Bar/Restaurant  10304  STATEN ISLAND  STATEN ISLAND, NY  40.628744   \n",
       "2446  Club/Bar/Restaurant  11423         HOLLIS         QUEENS, NY  40.711692   \n",
       "\n",
       "           LONG num_calls  \n",
       "0    -74.141155         0  \n",
       "1    -73.998842        18  \n",
       "2    -74.141040        21  \n",
       "3    -73.928258       160  \n",
       "4    -74.020285        17  \n",
       "...         ...       ...  \n",
       "2442 -73.942687        16  \n",
       "2443 -73.923911        17  \n",
       "2444 -74.000592        17  \n",
       "2445 -74.079935        11  \n",
       "2446 -73.769709        11  \n",
       "\n",
       "[2440 rows x 7 columns]"
      ]
     },
     "execution_count": 161,
     "metadata": {},
     "output_type": "execute_result"
    }
   ],
   "source": [
    "## cc['num_calls'] = np.where(#condition, #if true, #if false)\n",
    "cc['num_calls'] = np.where(cc['num_calls'] == '?', 'NaN', cc['num_calls'])\n",
    "cc['num_calls'] = np.where(cc['num_calls'] == '1?', 'NaN', cc['num_calls'])\n",
    "cc"
   ]
  },
  {
   "cell_type": "code",
   "execution_count": 163,
   "metadata": {},
   "outputs": [
    {
     "data": {
      "text/plain": [
       "0"
      ]
     },
     "execution_count": 163,
     "metadata": {},
     "output_type": "execute_result"
    }
   ],
   "source": [
    "len(cc[cc['num_calls'].str.contains('\\\\?')])"
   ]
  },
  {
   "cell_type": "code",
   "execution_count": 165,
   "metadata": {},
   "outputs": [
    {
     "data": {
      "text/plain": [
       "0"
      ]
     },
     "execution_count": 165,
     "metadata": {},
     "output_type": "execute_result"
    }
   ],
   "source": [
    "cc['num_calls'].str.contains('\\\\?').sum()"
   ]
  },
  {
   "cell_type": "code",
   "execution_count": 167,
   "metadata": {},
   "outputs": [
    {
     "data": {
      "text/html": [
       "<div>\n",
       "<style scoped>\n",
       "    .dataframe tbody tr th:only-of-type {\n",
       "        vertical-align: middle;\n",
       "    }\n",
       "\n",
       "    .dataframe tbody tr th {\n",
       "        vertical-align: top;\n",
       "    }\n",
       "\n",
       "    .dataframe thead th {\n",
       "        text-align: right;\n",
       "    }\n",
       "</style>\n",
       "<table border=\"1\" class=\"dataframe\">\n",
       "  <thead>\n",
       "    <tr style=\"text-align: right;\">\n",
       "      <th></th>\n",
       "      <th>ZC</th>\n",
       "      <th>LAT</th>\n",
       "      <th>LONG</th>\n",
       "    </tr>\n",
       "  </thead>\n",
       "  <tbody>\n",
       "    <tr>\n",
       "      <th>count</th>\n",
       "      <td>2440.000000</td>\n",
       "      <td>2440.000000</td>\n",
       "      <td>2440.000000</td>\n",
       "    </tr>\n",
       "    <tr>\n",
       "      <th>mean</th>\n",
       "      <td>10631.856967</td>\n",
       "      <td>40.700572</td>\n",
       "      <td>-73.891898</td>\n",
       "    </tr>\n",
       "    <tr>\n",
       "      <th>std</th>\n",
       "      <td>591.657847</td>\n",
       "      <td>1.651217</td>\n",
       "      <td>2.994412</td>\n",
       "    </tr>\n",
       "    <tr>\n",
       "      <th>min</th>\n",
       "      <td>10001.000000</td>\n",
       "      <td>-40.764281</td>\n",
       "      <td>-74.251277</td>\n",
       "    </tr>\n",
       "    <tr>\n",
       "      <th>25%</th>\n",
       "      <td>10019.000000</td>\n",
       "      <td>40.701890</td>\n",
       "      <td>-73.987822</td>\n",
       "    </tr>\n",
       "    <tr>\n",
       "      <th>50%</th>\n",
       "      <td>10463.000000</td>\n",
       "      <td>40.728312</td>\n",
       "      <td>-73.957928</td>\n",
       "    </tr>\n",
       "    <tr>\n",
       "      <th>75%</th>\n",
       "      <td>11217.000000</td>\n",
       "      <td>40.765226</td>\n",
       "      <td>-73.925376</td>\n",
       "    </tr>\n",
       "    <tr>\n",
       "      <th>max</th>\n",
       "      <td>11694.000000</td>\n",
       "      <td>40.910201</td>\n",
       "      <td>73.930575</td>\n",
       "    </tr>\n",
       "  </tbody>\n",
       "</table>\n",
       "</div>"
      ],
      "text/plain": [
       "                 ZC          LAT         LONG\n",
       "count   2440.000000  2440.000000  2440.000000\n",
       "mean   10631.856967    40.700572   -73.891898\n",
       "std      591.657847     1.651217     2.994412\n",
       "min    10001.000000   -40.764281   -74.251277\n",
       "25%    10019.000000    40.701890   -73.987822\n",
       "50%    10463.000000    40.728312   -73.957928\n",
       "75%    11217.000000    40.765226   -73.925376\n",
       "max    11694.000000    40.910201    73.930575"
      ]
     },
     "execution_count": 167,
     "metadata": {},
     "output_type": "execute_result"
    }
   ],
   "source": [
    "cc.describe()"
   ]
  },
  {
   "cell_type": "code",
   "execution_count": 169,
   "metadata": {
    "ExecuteTime": {
     "end_time": "2020-11-10T21:58:10.237758Z",
     "start_time": "2020-11-10T21:58:10.229737Z"
    }
   },
   "outputs": [
    {
     "data": {
      "text/plain": [
       "737"
      ]
     },
     "execution_count": 169,
     "metadata": {},
     "output_type": "execute_result"
    }
   ],
   "source": [
    "# Check the missing values in the columns of the Pandas DataFrame\n",
    "dd=cc['CITY'].isna().sum()\n",
    "dd\n",
    "#dd['CITY'] = np.where(dd['CITY'].isnull(), 'New York',dd['CITY'])\n",
    "#dd"
   ]
  },
  {
   "cell_type": "markdown",
   "metadata": {},
   "source": [
    "### Split the values in `BOUROUGHS_STATE` columns into two separate columns then concat (or add) those two columns to the original Pandas DataFrame\n",
    "\n",
    "- [pandas.Series.str.split](https://pandas.pydata.org/pandas-docs/stable/reference/api/pandas.Series.str.split.html)\n",
    "      - Key Parameters:\n",
    "        - pat: String or regular expression to split on. If not specified, \n",
    "               the method will split on whitespace.\n",
    "        - expand (default False): Expand the split strings into separate columns.\n",
    "             - If True, return DataFrame/MultiIndex expanding dimensionality.\n",
    "             - If False, return Series/Index, containing lists of strings.\n",
    "                 \n",
    "- [pandas.concat](https://pandas.pydata.org/pandas-docs/stable/reference/api/pandas.concat.html)\n",
    "      - Key Parameter: axis {0 = \"index\", 1 = \"columns\"}, default 0\n",
    "         - References the axis to concatenate along."
   ]
  },
  {
   "cell_type": "code",
   "execution_count": 51,
   "metadata": {},
   "outputs": [
    {
     "data": {
      "text/html": [
       "<div>\n",
       "<style scoped>\n",
       "    .dataframe tbody tr th:only-of-type {\n",
       "        vertical-align: middle;\n",
       "    }\n",
       "\n",
       "    .dataframe tbody tr th {\n",
       "        vertical-align: top;\n",
       "    }\n",
       "\n",
       "    .dataframe thead th {\n",
       "        text-align: right;\n",
       "    }\n",
       "</style>\n",
       "<table border=\"1\" class=\"dataframe\">\n",
       "  <thead>\n",
       "    <tr style=\"text-align: right;\">\n",
       "      <th></th>\n",
       "      <th>LOC</th>\n",
       "      <th>ZC</th>\n",
       "      <th>CITY</th>\n",
       "      <th>BOUROUGHS_STATE</th>\n",
       "      <th>LAT</th>\n",
       "      <th>LONG</th>\n",
       "      <th>num_calls</th>\n",
       "    </tr>\n",
       "  </thead>\n",
       "  <tbody>\n",
       "    <tr>\n",
       "      <th>0</th>\n",
       "      <td>Club/Bar/Restaurant</td>\n",
       "      <td>10308</td>\n",
       "      <td>STATEN ISLAND</td>\n",
       "      <td>STATEN ISLAND, NY</td>\n",
       "      <td>40.544096</td>\n",
       "      <td>-74.141155</td>\n",
       "      <td>0</td>\n",
       "    </tr>\n",
       "    <tr>\n",
       "      <th>1</th>\n",
       "      <td>Club/Bar/Restaurant</td>\n",
       "      <td>10012</td>\n",
       "      <td>NEW YORK</td>\n",
       "      <td>MANHATTAN, NY</td>\n",
       "      <td>40.729793</td>\n",
       "      <td>-73.998842</td>\n",
       "      <td>18</td>\n",
       "    </tr>\n",
       "    <tr>\n",
       "      <th>2</th>\n",
       "      <td>Club/Bar/Restaurant</td>\n",
       "      <td>10308</td>\n",
       "      <td>STATEN ISLAND</td>\n",
       "      <td>STATEN ISLAND, NY</td>\n",
       "      <td>40.544209</td>\n",
       "      <td>-74.141040</td>\n",
       "      <td>21</td>\n",
       "    </tr>\n",
       "    <tr>\n",
       "      <th>3</th>\n",
       "      <td>Club/Bar/Restaurant</td>\n",
       "      <td>10034</td>\n",
       "      <td>New York</td>\n",
       "      <td>MANHATTAN, NY</td>\n",
       "      <td>40.866376</td>\n",
       "      <td>-73.928258</td>\n",
       "      <td>160</td>\n",
       "    </tr>\n",
       "    <tr>\n",
       "      <th>4</th>\n",
       "      <td>Club/Bar/Restaurant</td>\n",
       "      <td>11220</td>\n",
       "      <td>NaN</td>\n",
       "      <td>BROOKLYN, NY</td>\n",
       "      <td>40.635207</td>\n",
       "      <td>-74.020285</td>\n",
       "      <td>17</td>\n",
       "    </tr>\n",
       "    <tr>\n",
       "      <th>...</th>\n",
       "      <td>...</td>\n",
       "      <td>...</td>\n",
       "      <td>...</td>\n",
       "      <td>...</td>\n",
       "      <td>...</td>\n",
       "      <td>...</td>\n",
       "      <td>...</td>\n",
       "    </tr>\n",
       "    <tr>\n",
       "      <th>2442</th>\n",
       "      <td>Club/Bar/Restaurant</td>\n",
       "      <td>11211</td>\n",
       "      <td>NaN</td>\n",
       "      <td>BROOKLYN, NY</td>\n",
       "      <td>40.711765</td>\n",
       "      <td>-73.942687</td>\n",
       "      <td>16</td>\n",
       "    </tr>\n",
       "    <tr>\n",
       "      <th>2443</th>\n",
       "      <td>Club/Bar/Restaurant</td>\n",
       "      <td>11104</td>\n",
       "      <td>SUNNYSIDE</td>\n",
       "      <td>QUEENS, NY</td>\n",
       "      <td>40.740725</td>\n",
       "      <td>-73.923911</td>\n",
       "      <td>17</td>\n",
       "    </tr>\n",
       "    <tr>\n",
       "      <th>2444</th>\n",
       "      <td>Club/Bar/Restaurant</td>\n",
       "      <td>10012</td>\n",
       "      <td>NEW YORK</td>\n",
       "      <td>MANHATTAN, NY</td>\n",
       "      <td>40.729859</td>\n",
       "      <td>-74.000592</td>\n",
       "      <td>17</td>\n",
       "    </tr>\n",
       "    <tr>\n",
       "      <th>2445</th>\n",
       "      <td>Club/Bar/Restaurant</td>\n",
       "      <td>10304</td>\n",
       "      <td>STATEN ISLAND</td>\n",
       "      <td>STATEN ISLAND, NY</td>\n",
       "      <td>40.628744</td>\n",
       "      <td>-74.079935</td>\n",
       "      <td>11</td>\n",
       "    </tr>\n",
       "    <tr>\n",
       "      <th>2446</th>\n",
       "      <td>Club/Bar/Restaurant</td>\n",
       "      <td>11423</td>\n",
       "      <td>HOLLIS</td>\n",
       "      <td>QUEENS, NY</td>\n",
       "      <td>40.711692</td>\n",
       "      <td>-73.769709</td>\n",
       "      <td>11</td>\n",
       "    </tr>\n",
       "  </tbody>\n",
       "</table>\n",
       "<p>2440 rows × 7 columns</p>\n",
       "</div>"
      ],
      "text/plain": [
       "                      LOC     ZC           CITY    BOUROUGHS_STATE        LAT  \\\n",
       "0     Club/Bar/Restaurant  10308  STATEN ISLAND  STATEN ISLAND, NY  40.544096   \n",
       "1     Club/Bar/Restaurant  10012       NEW YORK      MANHATTAN, NY  40.729793   \n",
       "2     Club/Bar/Restaurant  10308  STATEN ISLAND  STATEN ISLAND, NY  40.544209   \n",
       "3     Club/Bar/Restaurant  10034       New York      MANHATTAN, NY  40.866376   \n",
       "4     Club/Bar/Restaurant  11220            NaN       BROOKLYN, NY  40.635207   \n",
       "...                   ...    ...            ...                ...        ...   \n",
       "2442  Club/Bar/Restaurant  11211            NaN       BROOKLYN, NY  40.711765   \n",
       "2443  Club/Bar/Restaurant  11104      SUNNYSIDE         QUEENS, NY  40.740725   \n",
       "2444  Club/Bar/Restaurant  10012       NEW YORK      MANHATTAN, NY  40.729859   \n",
       "2445  Club/Bar/Restaurant  10304  STATEN ISLAND  STATEN ISLAND, NY  40.628744   \n",
       "2446  Club/Bar/Restaurant  11423         HOLLIS         QUEENS, NY  40.711692   \n",
       "\n",
       "           LONG num_calls  \n",
       "0    -74.141155         0  \n",
       "1    -73.998842        18  \n",
       "2    -74.141040        21  \n",
       "3    -73.928258       160  \n",
       "4    -74.020285        17  \n",
       "...         ...       ...  \n",
       "2442 -73.942687        16  \n",
       "2443 -73.923911        17  \n",
       "2444 -74.000592        17  \n",
       "2445 -74.079935        11  \n",
       "2446 -73.769709        11  \n",
       "\n",
       "[2440 rows x 7 columns]"
      ]
     },
     "execution_count": 51,
     "metadata": {},
     "output_type": "execute_result"
    }
   ],
   "source": [
    "cc"
   ]
  },
  {
   "cell_type": "code",
   "execution_count": 171,
   "metadata": {
    "ExecuteTime": {
     "end_time": "2020-11-10T21:58:10.248876Z",
     "start_time": "2020-11-10T21:58:10.239356Z"
    }
   },
   "outputs": [
    {
     "data": {
      "text/html": [
       "<div>\n",
       "<style scoped>\n",
       "    .dataframe tbody tr th:only-of-type {\n",
       "        vertical-align: middle;\n",
       "    }\n",
       "\n",
       "    .dataframe tbody tr th {\n",
       "        vertical-align: top;\n",
       "    }\n",
       "\n",
       "    .dataframe thead th {\n",
       "        text-align: right;\n",
       "    }\n",
       "</style>\n",
       "<table border=\"1\" class=\"dataframe\">\n",
       "  <thead>\n",
       "    <tr style=\"text-align: right;\">\n",
       "      <th></th>\n",
       "      <th>BOUROUGHS</th>\n",
       "      <th>STATE</th>\n",
       "    </tr>\n",
       "  </thead>\n",
       "  <tbody>\n",
       "    <tr>\n",
       "      <th>0</th>\n",
       "      <td>STATEN ISLAND</td>\n",
       "      <td>NY</td>\n",
       "    </tr>\n",
       "    <tr>\n",
       "      <th>1</th>\n",
       "      <td>MANHATTAN</td>\n",
       "      <td>NY</td>\n",
       "    </tr>\n",
       "    <tr>\n",
       "      <th>2</th>\n",
       "      <td>STATEN ISLAND</td>\n",
       "      <td>NY</td>\n",
       "    </tr>\n",
       "    <tr>\n",
       "      <th>3</th>\n",
       "      <td>MANHATTAN</td>\n",
       "      <td>NY</td>\n",
       "    </tr>\n",
       "    <tr>\n",
       "      <th>4</th>\n",
       "      <td>BROOKLYN</td>\n",
       "      <td>NY</td>\n",
       "    </tr>\n",
       "    <tr>\n",
       "      <th>...</th>\n",
       "      <td>...</td>\n",
       "      <td>...</td>\n",
       "    </tr>\n",
       "    <tr>\n",
       "      <th>2442</th>\n",
       "      <td>BROOKLYN</td>\n",
       "      <td>NY</td>\n",
       "    </tr>\n",
       "    <tr>\n",
       "      <th>2443</th>\n",
       "      <td>QUEENS</td>\n",
       "      <td>NY</td>\n",
       "    </tr>\n",
       "    <tr>\n",
       "      <th>2444</th>\n",
       "      <td>MANHATTAN</td>\n",
       "      <td>NY</td>\n",
       "    </tr>\n",
       "    <tr>\n",
       "      <th>2445</th>\n",
       "      <td>STATEN ISLAND</td>\n",
       "      <td>NY</td>\n",
       "    </tr>\n",
       "    <tr>\n",
       "      <th>2446</th>\n",
       "      <td>QUEENS</td>\n",
       "      <td>NY</td>\n",
       "    </tr>\n",
       "  </tbody>\n",
       "</table>\n",
       "<p>2440 rows × 2 columns</p>\n",
       "</div>"
      ],
      "text/plain": [
       "          BOUROUGHS STATE\n",
       "0     STATEN ISLAND    NY\n",
       "1         MANHATTAN    NY\n",
       "2     STATEN ISLAND    NY\n",
       "3         MANHATTAN    NY\n",
       "4          BROOKLYN    NY\n",
       "...             ...   ...\n",
       "2442       BROOKLYN    NY\n",
       "2443         QUEENS    NY\n",
       "2444      MANHATTAN    NY\n",
       "2445  STATEN ISLAND    NY\n",
       "2446         QUEENS    NY\n",
       "\n",
       "[2440 rows x 2 columns]"
      ]
     },
     "execution_count": 171,
     "metadata": {},
     "output_type": "execute_result"
    }
   ],
   "source": [
    "# Split the 'BOUROUGHS_STATE' column into two separate columns \n",
    "# and assign back to the new variable below\n",
    "# Conceptually similar to using \"Text to Columns\" in Excel\n",
    "split= cc['BOUROUGHS_STATE'].str.split(pat=',',n=2,expand=True)\n",
    "\n",
    "split.columns = ['BOUROUGHS', 'STATE']\n",
    "split\n"
   ]
  },
  {
   "cell_type": "code",
   "execution_count": 177,
   "metadata": {},
   "outputs": [
    {
     "data": {
      "text/html": [
       "<div>\n",
       "<style scoped>\n",
       "    .dataframe tbody tr th:only-of-type {\n",
       "        vertical-align: middle;\n",
       "    }\n",
       "\n",
       "    .dataframe tbody tr th {\n",
       "        vertical-align: top;\n",
       "    }\n",
       "\n",
       "    .dataframe thead th {\n",
       "        text-align: right;\n",
       "    }\n",
       "</style>\n",
       "<table border=\"1\" class=\"dataframe\">\n",
       "  <thead>\n",
       "    <tr style=\"text-align: right;\">\n",
       "      <th></th>\n",
       "      <th>LOC</th>\n",
       "      <th>ZC</th>\n",
       "      <th>CITY</th>\n",
       "      <th>BOUROUGHS_STATE</th>\n",
       "      <th>LAT</th>\n",
       "      <th>LONG</th>\n",
       "      <th>num_calls</th>\n",
       "      <th>BOUROUGHS</th>\n",
       "      <th>STATE</th>\n",
       "    </tr>\n",
       "  </thead>\n",
       "  <tbody>\n",
       "    <tr>\n",
       "      <th>0</th>\n",
       "      <td>Club/Bar/Restaurant</td>\n",
       "      <td>10308.0</td>\n",
       "      <td>STATEN ISLAND</td>\n",
       "      <td>STATEN ISLAND, NY</td>\n",
       "      <td>40.544096</td>\n",
       "      <td>-74.141155</td>\n",
       "      <td>0</td>\n",
       "      <td>NaN</td>\n",
       "      <td>NaN</td>\n",
       "    </tr>\n",
       "    <tr>\n",
       "      <th>1</th>\n",
       "      <td>Club/Bar/Restaurant</td>\n",
       "      <td>10012.0</td>\n",
       "      <td>NEW YORK</td>\n",
       "      <td>MANHATTAN, NY</td>\n",
       "      <td>40.729793</td>\n",
       "      <td>-73.998842</td>\n",
       "      <td>18</td>\n",
       "      <td>NaN</td>\n",
       "      <td>NaN</td>\n",
       "    </tr>\n",
       "    <tr>\n",
       "      <th>2</th>\n",
       "      <td>Club/Bar/Restaurant</td>\n",
       "      <td>10308.0</td>\n",
       "      <td>STATEN ISLAND</td>\n",
       "      <td>STATEN ISLAND, NY</td>\n",
       "      <td>40.544209</td>\n",
       "      <td>-74.141040</td>\n",
       "      <td>21</td>\n",
       "      <td>NaN</td>\n",
       "      <td>NaN</td>\n",
       "    </tr>\n",
       "    <tr>\n",
       "      <th>3</th>\n",
       "      <td>Club/Bar/Restaurant</td>\n",
       "      <td>10034.0</td>\n",
       "      <td>New York</td>\n",
       "      <td>MANHATTAN, NY</td>\n",
       "      <td>40.866376</td>\n",
       "      <td>-73.928258</td>\n",
       "      <td>160</td>\n",
       "      <td>NaN</td>\n",
       "      <td>NaN</td>\n",
       "    </tr>\n",
       "    <tr>\n",
       "      <th>4</th>\n",
       "      <td>Club/Bar/Restaurant</td>\n",
       "      <td>11220.0</td>\n",
       "      <td>NaN</td>\n",
       "      <td>BROOKLYN, NY</td>\n",
       "      <td>40.635207</td>\n",
       "      <td>-74.020285</td>\n",
       "      <td>17</td>\n",
       "      <td>NaN</td>\n",
       "      <td>NaN</td>\n",
       "    </tr>\n",
       "    <tr>\n",
       "      <th>...</th>\n",
       "      <td>...</td>\n",
       "      <td>...</td>\n",
       "      <td>...</td>\n",
       "      <td>...</td>\n",
       "      <td>...</td>\n",
       "      <td>...</td>\n",
       "      <td>...</td>\n",
       "      <td>...</td>\n",
       "      <td>...</td>\n",
       "    </tr>\n",
       "    <tr>\n",
       "      <th>2442</th>\n",
       "      <td>NaN</td>\n",
       "      <td>NaN</td>\n",
       "      <td>NaN</td>\n",
       "      <td>NaN</td>\n",
       "      <td>NaN</td>\n",
       "      <td>NaN</td>\n",
       "      <td>NaN</td>\n",
       "      <td>BROOKLYN</td>\n",
       "      <td>NY</td>\n",
       "    </tr>\n",
       "    <tr>\n",
       "      <th>2443</th>\n",
       "      <td>NaN</td>\n",
       "      <td>NaN</td>\n",
       "      <td>NaN</td>\n",
       "      <td>NaN</td>\n",
       "      <td>NaN</td>\n",
       "      <td>NaN</td>\n",
       "      <td>NaN</td>\n",
       "      <td>QUEENS</td>\n",
       "      <td>NY</td>\n",
       "    </tr>\n",
       "    <tr>\n",
       "      <th>2444</th>\n",
       "      <td>NaN</td>\n",
       "      <td>NaN</td>\n",
       "      <td>NaN</td>\n",
       "      <td>NaN</td>\n",
       "      <td>NaN</td>\n",
       "      <td>NaN</td>\n",
       "      <td>NaN</td>\n",
       "      <td>MANHATTAN</td>\n",
       "      <td>NY</td>\n",
       "    </tr>\n",
       "    <tr>\n",
       "      <th>2445</th>\n",
       "      <td>NaN</td>\n",
       "      <td>NaN</td>\n",
       "      <td>NaN</td>\n",
       "      <td>NaN</td>\n",
       "      <td>NaN</td>\n",
       "      <td>NaN</td>\n",
       "      <td>NaN</td>\n",
       "      <td>STATEN ISLAND</td>\n",
       "      <td>NY</td>\n",
       "    </tr>\n",
       "    <tr>\n",
       "      <th>2446</th>\n",
       "      <td>NaN</td>\n",
       "      <td>NaN</td>\n",
       "      <td>NaN</td>\n",
       "      <td>NaN</td>\n",
       "      <td>NaN</td>\n",
       "      <td>NaN</td>\n",
       "      <td>NaN</td>\n",
       "      <td>QUEENS</td>\n",
       "      <td>NY</td>\n",
       "    </tr>\n",
       "  </tbody>\n",
       "</table>\n",
       "<p>7320 rows × 9 columns</p>\n",
       "</div>"
      ],
      "text/plain": [
       "                      LOC       ZC           CITY    BOUROUGHS_STATE  \\\n",
       "0     Club/Bar/Restaurant  10308.0  STATEN ISLAND  STATEN ISLAND, NY   \n",
       "1     Club/Bar/Restaurant  10012.0       NEW YORK      MANHATTAN, NY   \n",
       "2     Club/Bar/Restaurant  10308.0  STATEN ISLAND  STATEN ISLAND, NY   \n",
       "3     Club/Bar/Restaurant  10034.0       New York      MANHATTAN, NY   \n",
       "4     Club/Bar/Restaurant  11220.0            NaN       BROOKLYN, NY   \n",
       "...                   ...      ...            ...                ...   \n",
       "2442                  NaN      NaN            NaN                NaN   \n",
       "2443                  NaN      NaN            NaN                NaN   \n",
       "2444                  NaN      NaN            NaN                NaN   \n",
       "2445                  NaN      NaN            NaN                NaN   \n",
       "2446                  NaN      NaN            NaN                NaN   \n",
       "\n",
       "            LAT       LONG num_calls      BOUROUGHS STATE  \n",
       "0     40.544096 -74.141155         0            NaN   NaN  \n",
       "1     40.729793 -73.998842        18            NaN   NaN  \n",
       "2     40.544209 -74.141040        21            NaN   NaN  \n",
       "3     40.866376 -73.928258       160            NaN   NaN  \n",
       "4     40.635207 -74.020285        17            NaN   NaN  \n",
       "...         ...        ...       ...            ...   ...  \n",
       "2442        NaN        NaN       NaN       BROOKLYN    NY  \n",
       "2443        NaN        NaN       NaN         QUEENS    NY  \n",
       "2444        NaN        NaN       NaN      MANHATTAN    NY  \n",
       "2445        NaN        NaN       NaN  STATEN ISLAND    NY  \n",
       "2446        NaN        NaN       NaN         QUEENS    NY  \n",
       "\n",
       "[7320 rows x 9 columns]"
      ]
     },
     "execution_count": 177,
     "metadata": {},
     "output_type": "execute_result"
    }
   ],
   "source": [
    "# Concat (combine) the new Pandas DataFrame above with the original \"cc\" DataFrame\n",
    "##cc = pd.concat([#dataframe1, #dataframe2 ], axis= )\n",
    "cc = pd.concat([cc,split], axis=0)\n",
    "cc"
   ]
  },
  {
   "cell_type": "markdown",
   "metadata": {},
   "source": [
    "### Drop a column (or columns) from a Pandas DataFrame\n",
    "\n",
    "- [pandas.DataFrame.drop](https://pandas.pydata.org/pandas-docs/stable/reference/api/pandas.DataFrame.drop.html)\n",
    "      - Key Parameter: axis{0 --> \"index\", 1 --> \"columns\"}, default 0\n",
    "         - Whether to drop labels from the index (0 or ‘index’) or \n",
    "           columns (1 or ‘columns’)."
   ]
  },
  {
   "cell_type": "code",
   "execution_count": 179,
   "metadata": {
    "ExecuteTime": {
     "end_time": "2020-11-10T21:58:10.258949Z",
     "start_time": "2020-11-10T21:58:10.251136Z"
    }
   },
   "outputs": [
    {
     "data": {
      "text/html": [
       "<div>\n",
       "<style scoped>\n",
       "    .dataframe tbody tr th:only-of-type {\n",
       "        vertical-align: middle;\n",
       "    }\n",
       "\n",
       "    .dataframe tbody tr th {\n",
       "        vertical-align: top;\n",
       "    }\n",
       "\n",
       "    .dataframe thead th {\n",
       "        text-align: right;\n",
       "    }\n",
       "</style>\n",
       "<table border=\"1\" class=\"dataframe\">\n",
       "  <thead>\n",
       "    <tr style=\"text-align: right;\">\n",
       "      <th></th>\n",
       "      <th>LOC</th>\n",
       "      <th>ZC</th>\n",
       "      <th>CITY</th>\n",
       "      <th>LAT</th>\n",
       "      <th>LONG</th>\n",
       "      <th>num_calls</th>\n",
       "      <th>BOUROUGHS</th>\n",
       "      <th>STATE</th>\n",
       "    </tr>\n",
       "  </thead>\n",
       "  <tbody>\n",
       "    <tr>\n",
       "      <th>0</th>\n",
       "      <td>Club/Bar/Restaurant</td>\n",
       "      <td>10308.0</td>\n",
       "      <td>STATEN ISLAND</td>\n",
       "      <td>40.544096</td>\n",
       "      <td>-74.141155</td>\n",
       "      <td>0</td>\n",
       "      <td>NaN</td>\n",
       "      <td>NaN</td>\n",
       "    </tr>\n",
       "    <tr>\n",
       "      <th>1</th>\n",
       "      <td>Club/Bar/Restaurant</td>\n",
       "      <td>10012.0</td>\n",
       "      <td>NEW YORK</td>\n",
       "      <td>40.729793</td>\n",
       "      <td>-73.998842</td>\n",
       "      <td>18</td>\n",
       "      <td>NaN</td>\n",
       "      <td>NaN</td>\n",
       "    </tr>\n",
       "    <tr>\n",
       "      <th>2</th>\n",
       "      <td>Club/Bar/Restaurant</td>\n",
       "      <td>10308.0</td>\n",
       "      <td>STATEN ISLAND</td>\n",
       "      <td>40.544209</td>\n",
       "      <td>-74.141040</td>\n",
       "      <td>21</td>\n",
       "      <td>NaN</td>\n",
       "      <td>NaN</td>\n",
       "    </tr>\n",
       "    <tr>\n",
       "      <th>3</th>\n",
       "      <td>Club/Bar/Restaurant</td>\n",
       "      <td>10034.0</td>\n",
       "      <td>New York</td>\n",
       "      <td>40.866376</td>\n",
       "      <td>-73.928258</td>\n",
       "      <td>160</td>\n",
       "      <td>NaN</td>\n",
       "      <td>NaN</td>\n",
       "    </tr>\n",
       "    <tr>\n",
       "      <th>4</th>\n",
       "      <td>Club/Bar/Restaurant</td>\n",
       "      <td>11220.0</td>\n",
       "      <td>NaN</td>\n",
       "      <td>40.635207</td>\n",
       "      <td>-74.020285</td>\n",
       "      <td>17</td>\n",
       "      <td>NaN</td>\n",
       "      <td>NaN</td>\n",
       "    </tr>\n",
       "    <tr>\n",
       "      <th>...</th>\n",
       "      <td>...</td>\n",
       "      <td>...</td>\n",
       "      <td>...</td>\n",
       "      <td>...</td>\n",
       "      <td>...</td>\n",
       "      <td>...</td>\n",
       "      <td>...</td>\n",
       "      <td>...</td>\n",
       "    </tr>\n",
       "    <tr>\n",
       "      <th>2442</th>\n",
       "      <td>NaN</td>\n",
       "      <td>NaN</td>\n",
       "      <td>NaN</td>\n",
       "      <td>NaN</td>\n",
       "      <td>NaN</td>\n",
       "      <td>NaN</td>\n",
       "      <td>BROOKLYN</td>\n",
       "      <td>NY</td>\n",
       "    </tr>\n",
       "    <tr>\n",
       "      <th>2443</th>\n",
       "      <td>NaN</td>\n",
       "      <td>NaN</td>\n",
       "      <td>NaN</td>\n",
       "      <td>NaN</td>\n",
       "      <td>NaN</td>\n",
       "      <td>NaN</td>\n",
       "      <td>QUEENS</td>\n",
       "      <td>NY</td>\n",
       "    </tr>\n",
       "    <tr>\n",
       "      <th>2444</th>\n",
       "      <td>NaN</td>\n",
       "      <td>NaN</td>\n",
       "      <td>NaN</td>\n",
       "      <td>NaN</td>\n",
       "      <td>NaN</td>\n",
       "      <td>NaN</td>\n",
       "      <td>MANHATTAN</td>\n",
       "      <td>NY</td>\n",
       "    </tr>\n",
       "    <tr>\n",
       "      <th>2445</th>\n",
       "      <td>NaN</td>\n",
       "      <td>NaN</td>\n",
       "      <td>NaN</td>\n",
       "      <td>NaN</td>\n",
       "      <td>NaN</td>\n",
       "      <td>NaN</td>\n",
       "      <td>STATEN ISLAND</td>\n",
       "      <td>NY</td>\n",
       "    </tr>\n",
       "    <tr>\n",
       "      <th>2446</th>\n",
       "      <td>NaN</td>\n",
       "      <td>NaN</td>\n",
       "      <td>NaN</td>\n",
       "      <td>NaN</td>\n",
       "      <td>NaN</td>\n",
       "      <td>NaN</td>\n",
       "      <td>QUEENS</td>\n",
       "      <td>NY</td>\n",
       "    </tr>\n",
       "  </tbody>\n",
       "</table>\n",
       "<p>7320 rows × 8 columns</p>\n",
       "</div>"
      ],
      "text/plain": [
       "                      LOC       ZC           CITY        LAT       LONG  \\\n",
       "0     Club/Bar/Restaurant  10308.0  STATEN ISLAND  40.544096 -74.141155   \n",
       "1     Club/Bar/Restaurant  10012.0       NEW YORK  40.729793 -73.998842   \n",
       "2     Club/Bar/Restaurant  10308.0  STATEN ISLAND  40.544209 -74.141040   \n",
       "3     Club/Bar/Restaurant  10034.0       New York  40.866376 -73.928258   \n",
       "4     Club/Bar/Restaurant  11220.0            NaN  40.635207 -74.020285   \n",
       "...                   ...      ...            ...        ...        ...   \n",
       "2442                  NaN      NaN            NaN        NaN        NaN   \n",
       "2443                  NaN      NaN            NaN        NaN        NaN   \n",
       "2444                  NaN      NaN            NaN        NaN        NaN   \n",
       "2445                  NaN      NaN            NaN        NaN        NaN   \n",
       "2446                  NaN      NaN            NaN        NaN        NaN   \n",
       "\n",
       "     num_calls      BOUROUGHS STATE  \n",
       "0            0            NaN   NaN  \n",
       "1           18            NaN   NaN  \n",
       "2           21            NaN   NaN  \n",
       "3          160            NaN   NaN  \n",
       "4           17            NaN   NaN  \n",
       "...        ...            ...   ...  \n",
       "2442       NaN       BROOKLYN    NY  \n",
       "2443       NaN         QUEENS    NY  \n",
       "2444       NaN      MANHATTAN    NY  \n",
       "2445       NaN  STATEN ISLAND    NY  \n",
       "2446       NaN         QUEENS    NY  \n",
       "\n",
       "[7320 rows x 8 columns]"
      ]
     },
     "execution_count": 179,
     "metadata": {},
     "output_type": "execute_result"
    }
   ],
   "source": [
    "# Drop the original \"BOUROUGHS_STATE\" column from DataFrame\n",
    "cc.drop(columns='BOUROUGHS_STATE')\n",
    "\n",
    "#cc.rename(columns={'0':'BOUROUGHS','1':'STATE'})\n",
    "\n",
    "#cc.rename(columns={\"0\":\"BOUROUGHS\",\"1\":\"STATE\"})"
   ]
  },
  {
   "cell_type": "code",
   "execution_count": 189,
   "metadata": {
    "ExecuteTime": {
     "end_time": "2020-11-10T21:58:10.265855Z",
     "start_time": "2020-11-10T21:58:10.261059Z"
    }
   },
   "outputs": [
    {
     "data": {
      "text/html": [
       "<div>\n",
       "<style scoped>\n",
       "    .dataframe tbody tr th:only-of-type {\n",
       "        vertical-align: middle;\n",
       "    }\n",
       "\n",
       "    .dataframe tbody tr th {\n",
       "        vertical-align: top;\n",
       "    }\n",
       "\n",
       "    .dataframe thead th {\n",
       "        text-align: right;\n",
       "    }\n",
       "</style>\n",
       "<table border=\"1\" class=\"dataframe\">\n",
       "  <thead>\n",
       "    <tr style=\"text-align: right;\">\n",
       "      <th></th>\n",
       "      <th>LOC</th>\n",
       "      <th>ZC</th>\n",
       "      <th>CITY</th>\n",
       "      <th>BOUROUGHS_STATE</th>\n",
       "      <th>LAT</th>\n",
       "      <th>LONG</th>\n",
       "      <th>num_calls</th>\n",
       "      <th>BOUROUGHS</th>\n",
       "      <th>STATE</th>\n",
       "    </tr>\n",
       "  </thead>\n",
       "  <tbody>\n",
       "    <tr>\n",
       "      <th>0</th>\n",
       "      <td>Club/Bar/Restaurant</td>\n",
       "      <td>10308.0</td>\n",
       "      <td>STATEN ISLAND</td>\n",
       "      <td>STATEN ISLAND, NY</td>\n",
       "      <td>40.544096</td>\n",
       "      <td>-74.141155</td>\n",
       "      <td>0</td>\n",
       "      <td>NaN</td>\n",
       "      <td>NaN</td>\n",
       "    </tr>\n",
       "    <tr>\n",
       "      <th>1</th>\n",
       "      <td>Club/Bar/Restaurant</td>\n",
       "      <td>10012.0</td>\n",
       "      <td>NEW YORK</td>\n",
       "      <td>MANHATTAN, NY</td>\n",
       "      <td>40.729793</td>\n",
       "      <td>-73.998842</td>\n",
       "      <td>18</td>\n",
       "      <td>NaN</td>\n",
       "      <td>NaN</td>\n",
       "    </tr>\n",
       "    <tr>\n",
       "      <th>2</th>\n",
       "      <td>Club/Bar/Restaurant</td>\n",
       "      <td>10308.0</td>\n",
       "      <td>STATEN ISLAND</td>\n",
       "      <td>STATEN ISLAND, NY</td>\n",
       "      <td>40.544209</td>\n",
       "      <td>-74.141040</td>\n",
       "      <td>21</td>\n",
       "      <td>NaN</td>\n",
       "      <td>NaN</td>\n",
       "    </tr>\n",
       "    <tr>\n",
       "      <th>3</th>\n",
       "      <td>Club/Bar/Restaurant</td>\n",
       "      <td>10034.0</td>\n",
       "      <td>New York</td>\n",
       "      <td>MANHATTAN, NY</td>\n",
       "      <td>40.866376</td>\n",
       "      <td>-73.928258</td>\n",
       "      <td>160</td>\n",
       "      <td>NaN</td>\n",
       "      <td>NaN</td>\n",
       "    </tr>\n",
       "    <tr>\n",
       "      <th>4</th>\n",
       "      <td>Club/Bar/Restaurant</td>\n",
       "      <td>11220.0</td>\n",
       "      <td>NaN</td>\n",
       "      <td>BROOKLYN, NY</td>\n",
       "      <td>40.635207</td>\n",
       "      <td>-74.020285</td>\n",
       "      <td>17</td>\n",
       "      <td>NaN</td>\n",
       "      <td>NaN</td>\n",
       "    </tr>\n",
       "    <tr>\n",
       "      <th>...</th>\n",
       "      <td>...</td>\n",
       "      <td>...</td>\n",
       "      <td>...</td>\n",
       "      <td>...</td>\n",
       "      <td>...</td>\n",
       "      <td>...</td>\n",
       "      <td>...</td>\n",
       "      <td>...</td>\n",
       "      <td>...</td>\n",
       "    </tr>\n",
       "    <tr>\n",
       "      <th>2442</th>\n",
       "      <td>NaN</td>\n",
       "      <td>NaN</td>\n",
       "      <td>NaN</td>\n",
       "      <td>NaN</td>\n",
       "      <td>NaN</td>\n",
       "      <td>NaN</td>\n",
       "      <td>NaN</td>\n",
       "      <td>BROOKLYN</td>\n",
       "      <td>NY</td>\n",
       "    </tr>\n",
       "    <tr>\n",
       "      <th>2443</th>\n",
       "      <td>NaN</td>\n",
       "      <td>NaN</td>\n",
       "      <td>NaN</td>\n",
       "      <td>NaN</td>\n",
       "      <td>NaN</td>\n",
       "      <td>NaN</td>\n",
       "      <td>NaN</td>\n",
       "      <td>QUEENS</td>\n",
       "      <td>NY</td>\n",
       "    </tr>\n",
       "    <tr>\n",
       "      <th>2444</th>\n",
       "      <td>NaN</td>\n",
       "      <td>NaN</td>\n",
       "      <td>NaN</td>\n",
       "      <td>NaN</td>\n",
       "      <td>NaN</td>\n",
       "      <td>NaN</td>\n",
       "      <td>NaN</td>\n",
       "      <td>MANHATTAN</td>\n",
       "      <td>NY</td>\n",
       "    </tr>\n",
       "    <tr>\n",
       "      <th>2445</th>\n",
       "      <td>NaN</td>\n",
       "      <td>NaN</td>\n",
       "      <td>NaN</td>\n",
       "      <td>NaN</td>\n",
       "      <td>NaN</td>\n",
       "      <td>NaN</td>\n",
       "      <td>NaN</td>\n",
       "      <td>STATEN ISLAND</td>\n",
       "      <td>NY</td>\n",
       "    </tr>\n",
       "    <tr>\n",
       "      <th>2446</th>\n",
       "      <td>NaN</td>\n",
       "      <td>NaN</td>\n",
       "      <td>NaN</td>\n",
       "      <td>NaN</td>\n",
       "      <td>NaN</td>\n",
       "      <td>NaN</td>\n",
       "      <td>NaN</td>\n",
       "      <td>QUEENS</td>\n",
       "      <td>NY</td>\n",
       "    </tr>\n",
       "  </tbody>\n",
       "</table>\n",
       "<p>7320 rows × 9 columns</p>\n",
       "</div>"
      ],
      "text/plain": [
       "                      LOC       ZC           CITY    BOUROUGHS_STATE  \\\n",
       "0     Club/Bar/Restaurant  10308.0  STATEN ISLAND  STATEN ISLAND, NY   \n",
       "1     Club/Bar/Restaurant  10012.0       NEW YORK      MANHATTAN, NY   \n",
       "2     Club/Bar/Restaurant  10308.0  STATEN ISLAND  STATEN ISLAND, NY   \n",
       "3     Club/Bar/Restaurant  10034.0       New York      MANHATTAN, NY   \n",
       "4     Club/Bar/Restaurant  11220.0            NaN       BROOKLYN, NY   \n",
       "...                   ...      ...            ...                ...   \n",
       "2442                  NaN      NaN            NaN                NaN   \n",
       "2443                  NaN      NaN            NaN                NaN   \n",
       "2444                  NaN      NaN            NaN                NaN   \n",
       "2445                  NaN      NaN            NaN                NaN   \n",
       "2446                  NaN      NaN            NaN                NaN   \n",
       "\n",
       "            LAT       LONG num_calls      BOUROUGHS STATE  \n",
       "0     40.544096 -74.141155         0            NaN   NaN  \n",
       "1     40.729793 -73.998842        18            NaN   NaN  \n",
       "2     40.544209 -74.141040        21            NaN   NaN  \n",
       "3     40.866376 -73.928258       160            NaN   NaN  \n",
       "4     40.635207 -74.020285        17            NaN   NaN  \n",
       "...         ...        ...       ...            ...   ...  \n",
       "2442        NaN        NaN       NaN       BROOKLYN    NY  \n",
       "2443        NaN        NaN       NaN         QUEENS    NY  \n",
       "2444        NaN        NaN       NaN      MANHATTAN    NY  \n",
       "2445        NaN        NaN       NaN  STATEN ISLAND    NY  \n",
       "2446        NaN        NaN       NaN         QUEENS    NY  \n",
       "\n",
       "[7320 rows x 9 columns]"
      ]
     },
     "execution_count": 189,
     "metadata": {},
     "output_type": "execute_result"
    }
   ],
   "source": [
    "# Check your work\n",
    "cc"
   ]
  },
  {
   "cell_type": "markdown",
   "metadata": {},
   "source": [
    "# cc = cc.rename(columns={0:\"BOUROUGHS\",1:\"STATE\"})\n",
    "cc"
   ]
  },
  {
   "cell_type": "markdown",
   "metadata": {},
   "source": [
    "### Rename columns in a Pandas DataFrame\n",
    "\n",
    "- [pandas.DataFrame.rename](https://pandas.pydata.org/pandas-docs/stable/reference/api/pandas.DataFrame.rename.html)\n",
    "      - Accepts a dictionary of key/values pairs to rename columns in a Pandas DataFrame\n",
    "      - Key Parameter: columns"
   ]
  },
  {
   "cell_type": "code",
   "execution_count": null,
   "metadata": {
    "ExecuteTime": {
     "end_time": "2020-11-10T21:58:10.272231Z",
     "start_time": "2020-11-10T21:58:10.268094Z"
    }
   },
   "outputs": [],
   "source": [
    "# Pass a dictionary of key:values pairs to the columns parameter of the \"rename\" method\n",
    "#cc.rename(# enter code here...\n",
    "    \n",
    "cc.rename(columns={\"0\":\"BOUROUGHS\",\"1\":\"STATE\"})"
   ]
  },
  {
   "cell_type": "code",
   "execution_count": null,
   "metadata": {
    "ExecuteTime": {
     "end_time": "2020-11-10T21:58:10.278099Z",
     "start_time": "2020-11-10T21:58:10.274166Z"
    },
    "scrolled": true
   },
   "outputs": [],
   "source": [
    "# Check your work\n"
   ]
  },
  {
   "cell_type": "markdown",
   "metadata": {},
   "source": [
    "### Reorder columns in a Pandas DataFrame\n",
    "\n",
    "- [pandas.DataFrame.reindex](https://pandas.pydata.org/pandas-docs/stable/reference/api/pandas.DataFrame.reindex.html)\n",
    "      - Can be used to reorder columns in a Pandas DataFrame\n",
    "      - Key Parameter: columns"
   ]
  },
  {
   "cell_type": "code",
   "execution_count": 187,
   "metadata": {
    "ExecuteTime": {
     "end_time": "2020-11-10T21:58:10.284875Z",
     "start_time": "2020-11-10T21:58:10.280315Z"
    }
   },
   "outputs": [
    {
     "data": {
      "text/html": [
       "<div>\n",
       "<style scoped>\n",
       "    .dataframe tbody tr th:only-of-type {\n",
       "        vertical-align: middle;\n",
       "    }\n",
       "\n",
       "    .dataframe tbody tr th {\n",
       "        vertical-align: top;\n",
       "    }\n",
       "\n",
       "    .dataframe thead th {\n",
       "        text-align: right;\n",
       "    }\n",
       "</style>\n",
       "<table border=\"1\" class=\"dataframe\">\n",
       "  <thead>\n",
       "    <tr style=\"text-align: right;\">\n",
       "      <th></th>\n",
       "      <th>CITY</th>\n",
       "    </tr>\n",
       "  </thead>\n",
       "  <tbody>\n",
       "    <tr>\n",
       "      <th>0</th>\n",
       "      <td>STATEN ISLAND</td>\n",
       "    </tr>\n",
       "    <tr>\n",
       "      <th>1</th>\n",
       "      <td>NEW YORK</td>\n",
       "    </tr>\n",
       "    <tr>\n",
       "      <th>2</th>\n",
       "      <td>STATEN ISLAND</td>\n",
       "    </tr>\n",
       "    <tr>\n",
       "      <th>3</th>\n",
       "      <td>New York</td>\n",
       "    </tr>\n",
       "    <tr>\n",
       "      <th>4</th>\n",
       "      <td>NaN</td>\n",
       "    </tr>\n",
       "    <tr>\n",
       "      <th>...</th>\n",
       "      <td>...</td>\n",
       "    </tr>\n",
       "    <tr>\n",
       "      <th>2442</th>\n",
       "      <td>NaN</td>\n",
       "    </tr>\n",
       "    <tr>\n",
       "      <th>2443</th>\n",
       "      <td>NaN</td>\n",
       "    </tr>\n",
       "    <tr>\n",
       "      <th>2444</th>\n",
       "      <td>NaN</td>\n",
       "    </tr>\n",
       "    <tr>\n",
       "      <th>2445</th>\n",
       "      <td>NaN</td>\n",
       "    </tr>\n",
       "    <tr>\n",
       "      <th>2446</th>\n",
       "      <td>NaN</td>\n",
       "    </tr>\n",
       "  </tbody>\n",
       "</table>\n",
       "<p>7320 rows × 1 columns</p>\n",
       "</div>"
      ],
      "text/plain": [
       "               CITY\n",
       "0     STATEN ISLAND\n",
       "1          NEW YORK\n",
       "2     STATEN ISLAND\n",
       "3          New York\n",
       "4               NaN\n",
       "...             ...\n",
       "2442            NaN\n",
       "2443            NaN\n",
       "2444            NaN\n",
       "2445            NaN\n",
       "2446            NaN\n",
       "\n",
       "[7320 rows x 1 columns]"
      ]
     },
     "execution_count": 187,
     "metadata": {},
     "output_type": "execute_result"
    }
   ],
   "source": [
    "# Pass a list of column names (as string) to the columns parameter of the \"reindex\" method\n",
    "\n",
    "#df.reindex(['http_status', 'user_agent'], axis=\"columns\")\n",
    "cc.reindex(['CITY'], axis=\"columns\")"
   ]
  },
  {
   "cell_type": "code",
   "execution_count": null,
   "metadata": {
    "ExecuteTime": {
     "end_time": "2020-11-10T21:58:10.299785Z",
     "start_time": "2020-11-10T21:58:10.286605Z"
    },
    "scrolled": true
   },
   "outputs": [],
   "source": [
    "# Check your work\n"
   ]
  },
  {
   "cell_type": "markdown",
   "metadata": {},
   "source": [
    "### Use `.describe()` to output descriptive statistic for the numeric columns in the Pandas DataFrame\n",
    "\n",
    "- [pandas.DataFrame.describe](https://pandas.pydata.org/pandas-docs/stable/reference/api/pandas.DataFrame.describe.html)\n",
    "      - Descriptive statistics summarizing the central tendency, dispersion and \n",
    "        shape of a dataset’s distribution, excluding NaN values."
   ]
  },
  {
   "cell_type": "code",
   "execution_count": 209,
   "metadata": {
    "ExecuteTime": {
     "end_time": "2020-11-10T21:58:10.327429Z",
     "start_time": "2020-11-10T21:58:10.308573Z"
    }
   },
   "outputs": [
    {
     "data": {
      "text/html": [
       "<div>\n",
       "<style scoped>\n",
       "    .dataframe tbody tr th:only-of-type {\n",
       "        vertical-align: middle;\n",
       "    }\n",
       "\n",
       "    .dataframe tbody tr th {\n",
       "        vertical-align: top;\n",
       "    }\n",
       "\n",
       "    .dataframe thead th {\n",
       "        text-align: right;\n",
       "    }\n",
       "</style>\n",
       "<table border=\"1\" class=\"dataframe\">\n",
       "  <thead>\n",
       "    <tr style=\"text-align: right;\">\n",
       "      <th></th>\n",
       "      <th>ZC</th>\n",
       "      <th>LAT</th>\n",
       "      <th>LONG</th>\n",
       "    </tr>\n",
       "  </thead>\n",
       "  <tbody>\n",
       "    <tr>\n",
       "      <th>count</th>\n",
       "      <td>2440.000000</td>\n",
       "      <td>2440.000000</td>\n",
       "      <td>2440.000000</td>\n",
       "    </tr>\n",
       "    <tr>\n",
       "      <th>mean</th>\n",
       "      <td>10631.856967</td>\n",
       "      <td>40.700572</td>\n",
       "      <td>-73.891898</td>\n",
       "    </tr>\n",
       "    <tr>\n",
       "      <th>std</th>\n",
       "      <td>591.657847</td>\n",
       "      <td>1.651217</td>\n",
       "      <td>2.994412</td>\n",
       "    </tr>\n",
       "    <tr>\n",
       "      <th>min</th>\n",
       "      <td>10001.000000</td>\n",
       "      <td>-40.764281</td>\n",
       "      <td>-74.251277</td>\n",
       "    </tr>\n",
       "    <tr>\n",
       "      <th>25%</th>\n",
       "      <td>10019.000000</td>\n",
       "      <td>40.701890</td>\n",
       "      <td>-73.987822</td>\n",
       "    </tr>\n",
       "    <tr>\n",
       "      <th>50%</th>\n",
       "      <td>10463.000000</td>\n",
       "      <td>40.728312</td>\n",
       "      <td>-73.957928</td>\n",
       "    </tr>\n",
       "    <tr>\n",
       "      <th>75%</th>\n",
       "      <td>11217.000000</td>\n",
       "      <td>40.765226</td>\n",
       "      <td>-73.925376</td>\n",
       "    </tr>\n",
       "    <tr>\n",
       "      <th>max</th>\n",
       "      <td>11694.000000</td>\n",
       "      <td>40.910201</td>\n",
       "      <td>73.930575</td>\n",
       "    </tr>\n",
       "  </tbody>\n",
       "</table>\n",
       "</div>"
      ],
      "text/plain": [
       "                 ZC          LAT         LONG\n",
       "count   2440.000000  2440.000000  2440.000000\n",
       "mean   10631.856967    40.700572   -73.891898\n",
       "std      591.657847     1.651217     2.994412\n",
       "min    10001.000000   -40.764281   -74.251277\n",
       "25%    10019.000000    40.701890   -73.987822\n",
       "50%    10463.000000    40.728312   -73.957928\n",
       "75%    11217.000000    40.765226   -73.925376\n",
       "max    11694.000000    40.910201    73.930575"
      ]
     },
     "execution_count": 209,
     "metadata": {},
     "output_type": "execute_result"
    }
   ],
   "source": [
    "# The `describe()` method outputs descriptive statistics by default for the\n",
    "# numeric columns in the Pandas DataFrame.\n",
    "cc.describe()"
   ]
  },
  {
   "cell_type": "code",
   "execution_count": 205,
   "metadata": {
    "ExecuteTime": {
     "end_time": "2020-11-10T21:58:10.335866Z",
     "start_time": "2020-11-10T21:58:10.329180Z"
    },
    "scrolled": true
   },
   "outputs": [
    {
     "data": {
      "text/plain": [
       "0        True\n",
       "1        True\n",
       "2        True\n",
       "3        True\n",
       "4        True\n",
       "        ...  \n",
       "2442    False\n",
       "2443    False\n",
       "2444    False\n",
       "2445    False\n",
       "2446    False\n",
       "Name: num_calls, Length: 7320, dtype: bool"
      ]
     },
     "execution_count": 205,
     "metadata": {},
     "output_type": "execute_result"
    }
   ],
   "source": [
    "# Setting a condition outputs a series of Booleans. \n",
    "# True if the condition is met, False if not\n",
    "condition = cc['num_calls']>= '0'\n",
    "condition"
   ]
  },
  {
   "cell_type": "code",
   "execution_count": 221,
   "metadata": {
    "ExecuteTime": {
     "end_time": "2020-11-10T21:58:10.348105Z",
     "start_time": "2020-11-10T21:58:10.337277Z"
    }
   },
   "outputs": [
    {
     "data": {
      "text/plain": [
       "0       False\n",
       "1       False\n",
       "2       False\n",
       "3       False\n",
       "4       False\n",
       "        ...  \n",
       "2442    False\n",
       "2443    False\n",
       "2444    False\n",
       "2445    False\n",
       "2446    False\n",
       "Name: LAT, Length: 7320, dtype: bool"
      ]
     },
     "execution_count": 221,
     "metadata": {},
     "output_type": "execute_result"
    }
   ],
   "source": [
    "# Filtering the \"cc\" DataFrame by the condition of \"cc['latitude'] <= 0\"\n",
    "# will return the rows where that condition is met \n",
    "# (latitude values is less than or equal to zero)\n",
    "condition = cc['LAT'] <= 0\n",
    "condition"
   ]
  },
  {
   "cell_type": "code",
   "execution_count": 225,
   "metadata": {
    "ExecuteTime": {
     "end_time": "2020-11-10T21:58:10.361313Z",
     "start_time": "2020-11-10T21:58:10.349740Z"
    },
    "scrolled": true
   },
   "outputs": [
    {
     "data": {
      "text/plain": [
       "0       False\n",
       "1       False\n",
       "2       False\n",
       "3       False\n",
       "4       False\n",
       "        ...  \n",
       "2442    False\n",
       "2443    False\n",
       "2444    False\n",
       "2445    False\n",
       "2446    False\n",
       "Name: LONG, Length: 7320, dtype: bool"
      ]
     },
     "execution_count": 225,
     "metadata": {},
     "output_type": "execute_result"
    }
   ],
   "source": [
    "# Now just flipping the sign around for the \"longitude\" Series (column) to output\n",
    "# the rows where the longitude value is greater than or equal to zero\n",
    "condition = cc['LONG'] >= 0\n",
    "condition"
   ]
  },
  {
   "cell_type": "markdown",
   "metadata": {},
   "source": [
    "**`.loc` and `.iloc`**\n",
    "  - [Indexing and selecting data](https://pandas.pydata.org/pandas-docs/stable/user_guide/indexing.html)\n",
    "  - [Handy .loc and .iloc resource](https://www.shanelynn.ie/select-pandas-dataframe-rows-and-columns-using-iloc-loc-and-ix/)"
   ]
  },
  {
   "cell_type": "code",
   "execution_count": 235,
   "metadata": {
    "ExecuteTime": {
     "end_time": "2020-11-10T21:58:10.369185Z",
     "start_time": "2020-11-10T21:58:10.363029Z"
    }
   },
   "outputs": [
    {
     "name": "stdout",
     "output_type": "stream",
     "text": [
      "float64\n"
     ]
    },
    {
     "data": {
      "text/html": [
       "<div>\n",
       "<style scoped>\n",
       "    .dataframe tbody tr th:only-of-type {\n",
       "        vertical-align: middle;\n",
       "    }\n",
       "\n",
       "    .dataframe tbody tr th {\n",
       "        vertical-align: top;\n",
       "    }\n",
       "\n",
       "    .dataframe thead th {\n",
       "        text-align: right;\n",
       "    }\n",
       "</style>\n",
       "<table border=\"1\" class=\"dataframe\">\n",
       "  <thead>\n",
       "    <tr style=\"text-align: right;\">\n",
       "      <th></th>\n",
       "      <th>LOC</th>\n",
       "      <th>ZC</th>\n",
       "      <th>CITY</th>\n",
       "      <th>BOUROUGHS_STATE</th>\n",
       "      <th>LAT</th>\n",
       "      <th>LONG</th>\n",
       "      <th>num_calls</th>\n",
       "      <th>BOUROUGHS</th>\n",
       "      <th>STATE</th>\n",
       "    </tr>\n",
       "  </thead>\n",
       "  <tbody>\n",
       "    <tr>\n",
       "      <th>0</th>\n",
       "      <td>Club/Bar/Restaurant</td>\n",
       "      <td>10308.0</td>\n",
       "      <td>STATEN ISLAND</td>\n",
       "      <td>STATEN ISLAND, NY</td>\n",
       "      <td>40.544096</td>\n",
       "      <td>-74.141155</td>\n",
       "      <td>0</td>\n",
       "      <td>NaN</td>\n",
       "      <td>NaN</td>\n",
       "    </tr>\n",
       "    <tr>\n",
       "      <th>1</th>\n",
       "      <td>Club/Bar/Restaurant</td>\n",
       "      <td>10012.0</td>\n",
       "      <td>NEW YORK</td>\n",
       "      <td>MANHATTAN, NY</td>\n",
       "      <td>40.729793</td>\n",
       "      <td>-73.998842</td>\n",
       "      <td>18</td>\n",
       "      <td>NaN</td>\n",
       "      <td>NaN</td>\n",
       "    </tr>\n",
       "    <tr>\n",
       "      <th>2</th>\n",
       "      <td>Club/Bar/Restaurant</td>\n",
       "      <td>10308.0</td>\n",
       "      <td>STATEN ISLAND</td>\n",
       "      <td>STATEN ISLAND, NY</td>\n",
       "      <td>40.544209</td>\n",
       "      <td>-74.141040</td>\n",
       "      <td>21</td>\n",
       "      <td>NaN</td>\n",
       "      <td>NaN</td>\n",
       "    </tr>\n",
       "    <tr>\n",
       "      <th>3</th>\n",
       "      <td>Club/Bar/Restaurant</td>\n",
       "      <td>10034.0</td>\n",
       "      <td>New York</td>\n",
       "      <td>MANHATTAN, NY</td>\n",
       "      <td>40.866376</td>\n",
       "      <td>-73.928258</td>\n",
       "      <td>160</td>\n",
       "      <td>NaN</td>\n",
       "      <td>NaN</td>\n",
       "    </tr>\n",
       "    <tr>\n",
       "      <th>4</th>\n",
       "      <td>Club/Bar/Restaurant</td>\n",
       "      <td>11220.0</td>\n",
       "      <td>NaN</td>\n",
       "      <td>BROOKLYN, NY</td>\n",
       "      <td>40.635207</td>\n",
       "      <td>-74.020285</td>\n",
       "      <td>17</td>\n",
       "      <td>NaN</td>\n",
       "      <td>NaN</td>\n",
       "    </tr>\n",
       "    <tr>\n",
       "      <th>...</th>\n",
       "      <td>...</td>\n",
       "      <td>...</td>\n",
       "      <td>...</td>\n",
       "      <td>...</td>\n",
       "      <td>...</td>\n",
       "      <td>...</td>\n",
       "      <td>...</td>\n",
       "      <td>...</td>\n",
       "      <td>...</td>\n",
       "    </tr>\n",
       "    <tr>\n",
       "      <th>2442</th>\n",
       "      <td>NaN</td>\n",
       "      <td>NaN</td>\n",
       "      <td>NaN</td>\n",
       "      <td>NaN</td>\n",
       "      <td>NaN</td>\n",
       "      <td>0.000000</td>\n",
       "      <td>NaN</td>\n",
       "      <td>BROOKLYN</td>\n",
       "      <td>NY</td>\n",
       "    </tr>\n",
       "    <tr>\n",
       "      <th>2443</th>\n",
       "      <td>NaN</td>\n",
       "      <td>NaN</td>\n",
       "      <td>NaN</td>\n",
       "      <td>NaN</td>\n",
       "      <td>NaN</td>\n",
       "      <td>0.000000</td>\n",
       "      <td>NaN</td>\n",
       "      <td>QUEENS</td>\n",
       "      <td>NY</td>\n",
       "    </tr>\n",
       "    <tr>\n",
       "      <th>2444</th>\n",
       "      <td>NaN</td>\n",
       "      <td>NaN</td>\n",
       "      <td>NaN</td>\n",
       "      <td>NaN</td>\n",
       "      <td>NaN</td>\n",
       "      <td>0.000000</td>\n",
       "      <td>NaN</td>\n",
       "      <td>MANHATTAN</td>\n",
       "      <td>NY</td>\n",
       "    </tr>\n",
       "    <tr>\n",
       "      <th>2445</th>\n",
       "      <td>NaN</td>\n",
       "      <td>NaN</td>\n",
       "      <td>NaN</td>\n",
       "      <td>NaN</td>\n",
       "      <td>NaN</td>\n",
       "      <td>0.000000</td>\n",
       "      <td>NaN</td>\n",
       "      <td>STATEN ISLAND</td>\n",
       "      <td>NY</td>\n",
       "    </tr>\n",
       "    <tr>\n",
       "      <th>2446</th>\n",
       "      <td>NaN</td>\n",
       "      <td>NaN</td>\n",
       "      <td>NaN</td>\n",
       "      <td>NaN</td>\n",
       "      <td>NaN</td>\n",
       "      <td>0.000000</td>\n",
       "      <td>NaN</td>\n",
       "      <td>QUEENS</td>\n",
       "      <td>NY</td>\n",
       "    </tr>\n",
       "  </tbody>\n",
       "</table>\n",
       "<p>7320 rows × 9 columns</p>\n",
       "</div>"
      ],
      "text/plain": [
       "                      LOC       ZC           CITY    BOUROUGHS_STATE  \\\n",
       "0     Club/Bar/Restaurant  10308.0  STATEN ISLAND  STATEN ISLAND, NY   \n",
       "1     Club/Bar/Restaurant  10012.0       NEW YORK      MANHATTAN, NY   \n",
       "2     Club/Bar/Restaurant  10308.0  STATEN ISLAND  STATEN ISLAND, NY   \n",
       "3     Club/Bar/Restaurant  10034.0       New York      MANHATTAN, NY   \n",
       "4     Club/Bar/Restaurant  11220.0            NaN       BROOKLYN, NY   \n",
       "...                   ...      ...            ...                ...   \n",
       "2442                  NaN      NaN            NaN                NaN   \n",
       "2443                  NaN      NaN            NaN                NaN   \n",
       "2444                  NaN      NaN            NaN                NaN   \n",
       "2445                  NaN      NaN            NaN                NaN   \n",
       "2446                  NaN      NaN            NaN                NaN   \n",
       "\n",
       "            LAT       LONG num_calls      BOUROUGHS STATE  \n",
       "0     40.544096 -74.141155         0            NaN   NaN  \n",
       "1     40.729793 -73.998842        18            NaN   NaN  \n",
       "2     40.544209 -74.141040        21            NaN   NaN  \n",
       "3     40.866376 -73.928258       160            NaN   NaN  \n",
       "4     40.635207 -74.020285        17            NaN   NaN  \n",
       "...         ...        ...       ...            ...   ...  \n",
       "2442        NaN   0.000000       NaN       BROOKLYN    NY  \n",
       "2443        NaN   0.000000       NaN         QUEENS    NY  \n",
       "2444        NaN   0.000000       NaN      MANHATTAN    NY  \n",
       "2445        NaN   0.000000       NaN  STATEN ISLAND    NY  \n",
       "2446        NaN   0.000000       NaN         QUEENS    NY  \n",
       "\n",
       "[7320 rows x 9 columns]"
      ]
     },
     "execution_count": 235,
     "metadata": {},
     "output_type": "execute_result"
    }
   ],
   "source": [
    "# Fix the erroneous value in the \"longitude\" column\n",
    "print(cc['LONG'].dtype)\n",
    "cc['LONG'] = pd.to_numeric(cc['LONG'], errors='coerce').fillna(0.0)\n",
    "cc"
   ]
  },
  {
   "cell_type": "code",
   "execution_count": 239,
   "metadata": {
    "ExecuteTime": {
     "end_time": "2020-11-10T21:58:10.374442Z",
     "start_time": "2020-11-10T21:58:10.371040Z"
    }
   },
   "outputs": [
    {
     "name": "stdout",
     "output_type": "stream",
     "text": [
      "float64\n"
     ]
    },
    {
     "data": {
      "text/html": [
       "<div>\n",
       "<style scoped>\n",
       "    .dataframe tbody tr th:only-of-type {\n",
       "        vertical-align: middle;\n",
       "    }\n",
       "\n",
       "    .dataframe tbody tr th {\n",
       "        vertical-align: top;\n",
       "    }\n",
       "\n",
       "    .dataframe thead th {\n",
       "        text-align: right;\n",
       "    }\n",
       "</style>\n",
       "<table border=\"1\" class=\"dataframe\">\n",
       "  <thead>\n",
       "    <tr style=\"text-align: right;\">\n",
       "      <th></th>\n",
       "      <th>LOC</th>\n",
       "      <th>ZC</th>\n",
       "      <th>CITY</th>\n",
       "      <th>BOUROUGHS_STATE</th>\n",
       "      <th>LAT</th>\n",
       "      <th>LONG</th>\n",
       "      <th>num_calls</th>\n",
       "      <th>BOUROUGHS</th>\n",
       "      <th>STATE</th>\n",
       "    </tr>\n",
       "  </thead>\n",
       "  <tbody>\n",
       "    <tr>\n",
       "      <th>0</th>\n",
       "      <td>Club/Bar/Restaurant</td>\n",
       "      <td>10308.0</td>\n",
       "      <td>STATEN ISLAND</td>\n",
       "      <td>STATEN ISLAND, NY</td>\n",
       "      <td>-74.141155</td>\n",
       "      <td>-74.141155</td>\n",
       "      <td>0</td>\n",
       "      <td>NaN</td>\n",
       "      <td>NaN</td>\n",
       "    </tr>\n",
       "    <tr>\n",
       "      <th>1</th>\n",
       "      <td>Club/Bar/Restaurant</td>\n",
       "      <td>10012.0</td>\n",
       "      <td>NEW YORK</td>\n",
       "      <td>MANHATTAN, NY</td>\n",
       "      <td>-73.998842</td>\n",
       "      <td>-73.998842</td>\n",
       "      <td>18</td>\n",
       "      <td>NaN</td>\n",
       "      <td>NaN</td>\n",
       "    </tr>\n",
       "    <tr>\n",
       "      <th>2</th>\n",
       "      <td>Club/Bar/Restaurant</td>\n",
       "      <td>10308.0</td>\n",
       "      <td>STATEN ISLAND</td>\n",
       "      <td>STATEN ISLAND, NY</td>\n",
       "      <td>-74.141040</td>\n",
       "      <td>-74.141040</td>\n",
       "      <td>21</td>\n",
       "      <td>NaN</td>\n",
       "      <td>NaN</td>\n",
       "    </tr>\n",
       "    <tr>\n",
       "      <th>3</th>\n",
       "      <td>Club/Bar/Restaurant</td>\n",
       "      <td>10034.0</td>\n",
       "      <td>New York</td>\n",
       "      <td>MANHATTAN, NY</td>\n",
       "      <td>-73.928258</td>\n",
       "      <td>-73.928258</td>\n",
       "      <td>160</td>\n",
       "      <td>NaN</td>\n",
       "      <td>NaN</td>\n",
       "    </tr>\n",
       "    <tr>\n",
       "      <th>4</th>\n",
       "      <td>Club/Bar/Restaurant</td>\n",
       "      <td>11220.0</td>\n",
       "      <td>NaN</td>\n",
       "      <td>BROOKLYN, NY</td>\n",
       "      <td>-74.020285</td>\n",
       "      <td>-74.020285</td>\n",
       "      <td>17</td>\n",
       "      <td>NaN</td>\n",
       "      <td>NaN</td>\n",
       "    </tr>\n",
       "    <tr>\n",
       "      <th>...</th>\n",
       "      <td>...</td>\n",
       "      <td>...</td>\n",
       "      <td>...</td>\n",
       "      <td>...</td>\n",
       "      <td>...</td>\n",
       "      <td>...</td>\n",
       "      <td>...</td>\n",
       "      <td>...</td>\n",
       "      <td>...</td>\n",
       "    </tr>\n",
       "    <tr>\n",
       "      <th>2442</th>\n",
       "      <td>NaN</td>\n",
       "      <td>NaN</td>\n",
       "      <td>NaN</td>\n",
       "      <td>NaN</td>\n",
       "      <td>0.000000</td>\n",
       "      <td>0.000000</td>\n",
       "      <td>NaN</td>\n",
       "      <td>BROOKLYN</td>\n",
       "      <td>NY</td>\n",
       "    </tr>\n",
       "    <tr>\n",
       "      <th>2443</th>\n",
       "      <td>NaN</td>\n",
       "      <td>NaN</td>\n",
       "      <td>NaN</td>\n",
       "      <td>NaN</td>\n",
       "      <td>0.000000</td>\n",
       "      <td>0.000000</td>\n",
       "      <td>NaN</td>\n",
       "      <td>QUEENS</td>\n",
       "      <td>NY</td>\n",
       "    </tr>\n",
       "    <tr>\n",
       "      <th>2444</th>\n",
       "      <td>NaN</td>\n",
       "      <td>NaN</td>\n",
       "      <td>NaN</td>\n",
       "      <td>NaN</td>\n",
       "      <td>0.000000</td>\n",
       "      <td>0.000000</td>\n",
       "      <td>NaN</td>\n",
       "      <td>MANHATTAN</td>\n",
       "      <td>NY</td>\n",
       "    </tr>\n",
       "    <tr>\n",
       "      <th>2445</th>\n",
       "      <td>NaN</td>\n",
       "      <td>NaN</td>\n",
       "      <td>NaN</td>\n",
       "      <td>NaN</td>\n",
       "      <td>0.000000</td>\n",
       "      <td>0.000000</td>\n",
       "      <td>NaN</td>\n",
       "      <td>STATEN ISLAND</td>\n",
       "      <td>NY</td>\n",
       "    </tr>\n",
       "    <tr>\n",
       "      <th>2446</th>\n",
       "      <td>NaN</td>\n",
       "      <td>NaN</td>\n",
       "      <td>NaN</td>\n",
       "      <td>NaN</td>\n",
       "      <td>0.000000</td>\n",
       "      <td>0.000000</td>\n",
       "      <td>NaN</td>\n",
       "      <td>QUEENS</td>\n",
       "      <td>NY</td>\n",
       "    </tr>\n",
       "  </tbody>\n",
       "</table>\n",
       "<p>7320 rows × 9 columns</p>\n",
       "</div>"
      ],
      "text/plain": [
       "                      LOC       ZC           CITY    BOUROUGHS_STATE  \\\n",
       "0     Club/Bar/Restaurant  10308.0  STATEN ISLAND  STATEN ISLAND, NY   \n",
       "1     Club/Bar/Restaurant  10012.0       NEW YORK      MANHATTAN, NY   \n",
       "2     Club/Bar/Restaurant  10308.0  STATEN ISLAND  STATEN ISLAND, NY   \n",
       "3     Club/Bar/Restaurant  10034.0       New York      MANHATTAN, NY   \n",
       "4     Club/Bar/Restaurant  11220.0            NaN       BROOKLYN, NY   \n",
       "...                   ...      ...            ...                ...   \n",
       "2442                  NaN      NaN            NaN                NaN   \n",
       "2443                  NaN      NaN            NaN                NaN   \n",
       "2444                  NaN      NaN            NaN                NaN   \n",
       "2445                  NaN      NaN            NaN                NaN   \n",
       "2446                  NaN      NaN            NaN                NaN   \n",
       "\n",
       "            LAT       LONG num_calls      BOUROUGHS STATE  \n",
       "0    -74.141155 -74.141155         0            NaN   NaN  \n",
       "1    -73.998842 -73.998842        18            NaN   NaN  \n",
       "2    -74.141040 -74.141040        21            NaN   NaN  \n",
       "3    -73.928258 -73.928258       160            NaN   NaN  \n",
       "4    -74.020285 -74.020285        17            NaN   NaN  \n",
       "...         ...        ...       ...            ...   ...  \n",
       "2442   0.000000   0.000000       NaN       BROOKLYN    NY  \n",
       "2443   0.000000   0.000000       NaN         QUEENS    NY  \n",
       "2444   0.000000   0.000000       NaN      MANHATTAN    NY  \n",
       "2445   0.000000   0.000000       NaN  STATEN ISLAND    NY  \n",
       "2446   0.000000   0.000000       NaN         QUEENS    NY  \n",
       "\n",
       "[7320 rows x 9 columns]"
      ]
     },
     "execution_count": 239,
     "metadata": {},
     "output_type": "execute_result"
    }
   ],
   "source": [
    "# Fix the erroneous value in the \"latitude\" column\n",
    "print(cc['LAT'].dtype)\n",
    "cc['LAT'] = pd.to_numeric(cc['LONG'], errors='coerce').fillna(0.0)\n",
    "cc"
   ]
  },
  {
   "cell_type": "markdown",
   "metadata": {},
   "source": [
    "**Always good to check your work...**"
   ]
  },
  {
   "cell_type": "code",
   "execution_count": 247,
   "metadata": {
    "ExecuteTime": {
     "end_time": "2020-11-10T21:58:10.384052Z",
     "start_time": "2020-11-10T21:58:10.375983Z"
    }
   },
   "outputs": [
    {
     "data": {
      "text/plain": [
       "array([-74.14115469, -73.99884181, -74.14103979, ..., -74.07993453,\n",
       "       -73.76970902,   0.        ])"
      ]
     },
     "execution_count": 247,
     "metadata": {},
     "output_type": "execute_result"
    }
   ],
   "source": [
    "# Check the \"longitude\" column again for any erroneous values\n",
    "cc['LONG'].unique()\n"
   ]
  },
  {
   "cell_type": "code",
   "execution_count": 249,
   "metadata": {},
   "outputs": [
    {
     "data": {
      "text/plain": [
       "dtype('float64')"
      ]
     },
     "execution_count": 249,
     "metadata": {},
     "output_type": "execute_result"
    }
   ],
   "source": [
    "cc['LONG'].dtype"
   ]
  },
  {
   "cell_type": "code",
   "execution_count": 257,
   "metadata": {
    "ExecuteTime": {
     "end_time": "2020-11-10T21:58:10.394140Z",
     "start_time": "2020-11-10T21:58:10.385464Z"
    }
   },
   "outputs": [
    {
     "data": {
      "text/plain": [
       "array([-74.14115469, -73.99884181, -74.14103979, ..., -74.07993453,\n",
       "       -73.76970902,   0.        ])"
      ]
     },
     "execution_count": 257,
     "metadata": {},
     "output_type": "execute_result"
    }
   ],
   "source": [
    "# Check the \"latitude\" column again for any erroneous values\n",
    "cc['LAT'].unique()"
   ]
  },
  {
   "cell_type": "markdown",
   "metadata": {},
   "source": [
    "### We can write all this work back to a csv file if we wish to. \n",
    "\n",
    "- [pandas.DataFrame.to_csv](https://pandas.pydata.org/pandas-docs/stable/reference/api/pandas.DataFrame.to_csv.html)\n",
    "      - Key Parameter: index (bool), default True\n",
    "         - Write row names (index)"
   ]
  },
  {
   "cell_type": "code",
   "execution_count": 261,
   "metadata": {
    "ExecuteTime": {
     "end_time": "2020-11-10T21:58:10.417724Z",
     "start_time": "2020-11-10T21:58:10.396279Z"
    }
   },
   "outputs": [
    {
     "data": {
      "text/html": [
       "<div>\n",
       "<style scoped>\n",
       "    .dataframe tbody tr th:only-of-type {\n",
       "        vertical-align: middle;\n",
       "    }\n",
       "\n",
       "    .dataframe tbody tr th {\n",
       "        vertical-align: top;\n",
       "    }\n",
       "\n",
       "    .dataframe thead th {\n",
       "        text-align: right;\n",
       "    }\n",
       "</style>\n",
       "<table border=\"1\" class=\"dataframe\">\n",
       "  <thead>\n",
       "    <tr style=\"text-align: right;\">\n",
       "      <th></th>\n",
       "      <th>LOC</th>\n",
       "      <th>ZC</th>\n",
       "      <th>CITY</th>\n",
       "      <th>BOUROUGHS_STATE</th>\n",
       "      <th>LAT</th>\n",
       "      <th>LONG</th>\n",
       "      <th>num_calls</th>\n",
       "      <th>BOUROUGHS</th>\n",
       "      <th>STATE</th>\n",
       "    </tr>\n",
       "  </thead>\n",
       "  <tbody>\n",
       "    <tr>\n",
       "      <th>0</th>\n",
       "      <td>Club/Bar/Restaurant</td>\n",
       "      <td>10308.0</td>\n",
       "      <td>STATEN ISLAND</td>\n",
       "      <td>STATEN ISLAND, NY</td>\n",
       "      <td>-74.141155</td>\n",
       "      <td>-74.141155</td>\n",
       "      <td>0</td>\n",
       "      <td>NaN</td>\n",
       "      <td>NaN</td>\n",
       "    </tr>\n",
       "    <tr>\n",
       "      <th>1</th>\n",
       "      <td>Club/Bar/Restaurant</td>\n",
       "      <td>10012.0</td>\n",
       "      <td>NEW YORK</td>\n",
       "      <td>MANHATTAN, NY</td>\n",
       "      <td>-73.998842</td>\n",
       "      <td>-73.998842</td>\n",
       "      <td>18</td>\n",
       "      <td>NaN</td>\n",
       "      <td>NaN</td>\n",
       "    </tr>\n",
       "    <tr>\n",
       "      <th>2</th>\n",
       "      <td>Club/Bar/Restaurant</td>\n",
       "      <td>10308.0</td>\n",
       "      <td>STATEN ISLAND</td>\n",
       "      <td>STATEN ISLAND, NY</td>\n",
       "      <td>-74.141040</td>\n",
       "      <td>-74.141040</td>\n",
       "      <td>21</td>\n",
       "      <td>NaN</td>\n",
       "      <td>NaN</td>\n",
       "    </tr>\n",
       "    <tr>\n",
       "      <th>3</th>\n",
       "      <td>Club/Bar/Restaurant</td>\n",
       "      <td>10034.0</td>\n",
       "      <td>New York</td>\n",
       "      <td>MANHATTAN, NY</td>\n",
       "      <td>-73.928258</td>\n",
       "      <td>-73.928258</td>\n",
       "      <td>160</td>\n",
       "      <td>NaN</td>\n",
       "      <td>NaN</td>\n",
       "    </tr>\n",
       "    <tr>\n",
       "      <th>4</th>\n",
       "      <td>Club/Bar/Restaurant</td>\n",
       "      <td>11220.0</td>\n",
       "      <td>NaN</td>\n",
       "      <td>BROOKLYN, NY</td>\n",
       "      <td>-74.020285</td>\n",
       "      <td>-74.020285</td>\n",
       "      <td>17</td>\n",
       "      <td>NaN</td>\n",
       "      <td>NaN</td>\n",
       "    </tr>\n",
       "    <tr>\n",
       "      <th>...</th>\n",
       "      <td>...</td>\n",
       "      <td>...</td>\n",
       "      <td>...</td>\n",
       "      <td>...</td>\n",
       "      <td>...</td>\n",
       "      <td>...</td>\n",
       "      <td>...</td>\n",
       "      <td>...</td>\n",
       "      <td>...</td>\n",
       "    </tr>\n",
       "    <tr>\n",
       "      <th>2442</th>\n",
       "      <td>NaN</td>\n",
       "      <td>NaN</td>\n",
       "      <td>NaN</td>\n",
       "      <td>NaN</td>\n",
       "      <td>0.000000</td>\n",
       "      <td>0.000000</td>\n",
       "      <td>NaN</td>\n",
       "      <td>BROOKLYN</td>\n",
       "      <td>NY</td>\n",
       "    </tr>\n",
       "    <tr>\n",
       "      <th>2443</th>\n",
       "      <td>NaN</td>\n",
       "      <td>NaN</td>\n",
       "      <td>NaN</td>\n",
       "      <td>NaN</td>\n",
       "      <td>0.000000</td>\n",
       "      <td>0.000000</td>\n",
       "      <td>NaN</td>\n",
       "      <td>QUEENS</td>\n",
       "      <td>NY</td>\n",
       "    </tr>\n",
       "    <tr>\n",
       "      <th>2444</th>\n",
       "      <td>NaN</td>\n",
       "      <td>NaN</td>\n",
       "      <td>NaN</td>\n",
       "      <td>NaN</td>\n",
       "      <td>0.000000</td>\n",
       "      <td>0.000000</td>\n",
       "      <td>NaN</td>\n",
       "      <td>MANHATTAN</td>\n",
       "      <td>NY</td>\n",
       "    </tr>\n",
       "    <tr>\n",
       "      <th>2445</th>\n",
       "      <td>NaN</td>\n",
       "      <td>NaN</td>\n",
       "      <td>NaN</td>\n",
       "      <td>NaN</td>\n",
       "      <td>0.000000</td>\n",
       "      <td>0.000000</td>\n",
       "      <td>NaN</td>\n",
       "      <td>STATEN ISLAND</td>\n",
       "      <td>NY</td>\n",
       "    </tr>\n",
       "    <tr>\n",
       "      <th>2446</th>\n",
       "      <td>NaN</td>\n",
       "      <td>NaN</td>\n",
       "      <td>NaN</td>\n",
       "      <td>NaN</td>\n",
       "      <td>0.000000</td>\n",
       "      <td>0.000000</td>\n",
       "      <td>NaN</td>\n",
       "      <td>QUEENS</td>\n",
       "      <td>NY</td>\n",
       "    </tr>\n",
       "  </tbody>\n",
       "</table>\n",
       "<p>7320 rows × 9 columns</p>\n",
       "</div>"
      ],
      "text/plain": [
       "                      LOC       ZC           CITY    BOUROUGHS_STATE  \\\n",
       "0     Club/Bar/Restaurant  10308.0  STATEN ISLAND  STATEN ISLAND, NY   \n",
       "1     Club/Bar/Restaurant  10012.0       NEW YORK      MANHATTAN, NY   \n",
       "2     Club/Bar/Restaurant  10308.0  STATEN ISLAND  STATEN ISLAND, NY   \n",
       "3     Club/Bar/Restaurant  10034.0       New York      MANHATTAN, NY   \n",
       "4     Club/Bar/Restaurant  11220.0            NaN       BROOKLYN, NY   \n",
       "...                   ...      ...            ...                ...   \n",
       "2442                  NaN      NaN            NaN                NaN   \n",
       "2443                  NaN      NaN            NaN                NaN   \n",
       "2444                  NaN      NaN            NaN                NaN   \n",
       "2445                  NaN      NaN            NaN                NaN   \n",
       "2446                  NaN      NaN            NaN                NaN   \n",
       "\n",
       "            LAT       LONG num_calls      BOUROUGHS STATE  \n",
       "0    -74.141155 -74.141155         0            NaN   NaN  \n",
       "1    -73.998842 -73.998842        18            NaN   NaN  \n",
       "2    -74.141040 -74.141040        21            NaN   NaN  \n",
       "3    -73.928258 -73.928258       160            NaN   NaN  \n",
       "4    -74.020285 -74.020285        17            NaN   NaN  \n",
       "...         ...        ...       ...            ...   ...  \n",
       "2442   0.000000   0.000000       NaN       BROOKLYN    NY  \n",
       "2443   0.000000   0.000000       NaN         QUEENS    NY  \n",
       "2444   0.000000   0.000000       NaN      MANHATTAN    NY  \n",
       "2445   0.000000   0.000000       NaN  STATEN ISLAND    NY  \n",
       "2446   0.000000   0.000000       NaN         QUEENS    NY  \n",
       "\n",
       "[7320 rows x 9 columns]"
      ]
     },
     "execution_count": 261,
     "metadata": {},
     "output_type": "execute_result"
    }
   ],
   "source": [
    "# Write the cleaned up Pandas DataFrame to a comma-separated values (csv) file.\n",
    "cc.to_csv('cleaned_data.csv', index=False)\n",
    "cc"
   ]
  }
 ],
 "metadata": {
  "kernelspec": {
   "display_name": "Python 3 (ipykernel)",
   "language": "python",
   "name": "python3"
  },
  "language_info": {
   "codemirror_mode": {
    "name": "ipython",
    "version": 3
   },
   "file_extension": ".py",
   "mimetype": "text/x-python",
   "name": "python",
   "nbconvert_exporter": "python",
   "pygments_lexer": "ipython3",
   "version": "3.12.4"
  }
 },
 "nbformat": 4,
 "nbformat_minor": 4
}
